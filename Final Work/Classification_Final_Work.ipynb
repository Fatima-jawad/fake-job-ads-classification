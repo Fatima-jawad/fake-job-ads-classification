{
  "nbformat": 4,
  "nbformat_minor": 0,
  "metadata": {
    "accelerator": "GPU",
    "colab": {
      "name": "Classification_Final_Work.ipynb",
      "provenance": [],
      "collapsed_sections": []
    },
    "kernelspec": {
      "display_name": "Python 3",
      "language": "python",
      "name": "python3"
    },
    "language_info": {
      "codemirror_mode": {
        "name": "ipython",
        "version": 3
      },
      "file_extension": ".py",
      "mimetype": "text/x-python",
      "name": "python",
      "nbconvert_exporter": "python",
      "pygments_lexer": "ipython3",
      "version": "3.8.3"
    }
  },
  "cells": [
    {
      "cell_type": "markdown",
      "metadata": {
        "id": "62B_Wl4t7knh"
      },
      "source": [
        "# Fake Job Postings"
      ]
    },
    {
      "cell_type": "code",
      "metadata": {
        "colab": {
          "base_uri": "https://localhost:8080/"
        },
        "id": "XcdjfH3o9ID1",
        "outputId": "2aee9ddb-eb21-4bf7-e826-952c76011904"
      },
      "source": [
        "from google.colab import drive\n",
        "drive.mount('/content/drive')"
      ],
      "execution_count": 1,
      "outputs": [
        {
          "output_type": "stream",
          "name": "stdout",
          "text": [
            "Mounted at /content/drive\n"
          ]
        }
      ]
    },
    {
      "cell_type": "code",
      "metadata": {
        "colab": {
          "base_uri": "https://localhost:8080/"
        },
        "id": "B6OxqnyMD6lL",
        "outputId": "d05cc1c1-4a5f-4a94-cd1c-dad109037b73"
      },
      "source": [
        "!apt install enchant\n",
        "!pip install pyenchant"
      ],
      "execution_count": 2,
      "outputs": [
        {
          "output_type": "stream",
          "name": "stdout",
          "text": [
            "Reading package lists... Done\n",
            "Building dependency tree       \n",
            "Reading state information... Done\n",
            "The following package was automatically installed and is no longer required:\n",
            "  libnvidia-common-460\n",
            "Use 'apt autoremove' to remove it.\n",
            "The following additional packages will be installed:\n",
            "  aspell aspell-en dictionaries-common emacsen-common hunspell-en-us\n",
            "  libaspell15 libenchant1c2a libhunspell-1.6-0 libtext-iconv-perl\n",
            "Suggested packages:\n",
            "  aspell-doc spellutils wordlist hunspell openoffice.org-hunspell\n",
            "  | openoffice.org-core libenchant-voikko\n",
            "The following NEW packages will be installed:\n",
            "  aspell aspell-en dictionaries-common emacsen-common enchant hunspell-en-us\n",
            "  libaspell15 libenchant1c2a libhunspell-1.6-0 libtext-iconv-perl\n",
            "0 upgraded, 10 newly installed, 0 to remove and 37 not upgraded.\n",
            "Need to get 1,312 kB of archives.\n",
            "After this operation, 5,353 kB of additional disk space will be used.\n",
            "Get:1 http://archive.ubuntu.com/ubuntu bionic/main amd64 libtext-iconv-perl amd64 1.7-5build6 [13.0 kB]\n",
            "Get:2 http://archive.ubuntu.com/ubuntu bionic-updates/main amd64 libaspell15 amd64 0.60.7~20110707-4ubuntu0.2 [310 kB]\n",
            "Get:3 http://archive.ubuntu.com/ubuntu bionic/main amd64 emacsen-common all 2.0.8 [17.6 kB]\n",
            "Get:4 http://archive.ubuntu.com/ubuntu bionic/main amd64 dictionaries-common all 1.27.2 [186 kB]\n",
            "Get:5 http://archive.ubuntu.com/ubuntu bionic-updates/main amd64 aspell amd64 0.60.7~20110707-4ubuntu0.2 [87.7 kB]\n",
            "Get:6 http://archive.ubuntu.com/ubuntu bionic/main amd64 aspell-en all 2017.08.24-0-0.1 [298 kB]\n",
            "Get:7 http://archive.ubuntu.com/ubuntu bionic/main amd64 hunspell-en-us all 1:2017.08.24 [168 kB]\n",
            "Get:8 http://archive.ubuntu.com/ubuntu bionic/main amd64 libhunspell-1.6-0 amd64 1.6.2-1 [154 kB]\n",
            "Get:9 http://archive.ubuntu.com/ubuntu bionic/main amd64 libenchant1c2a amd64 1.6.0-11.1 [64.4 kB]\n",
            "Get:10 http://archive.ubuntu.com/ubuntu bionic/main amd64 enchant amd64 1.6.0-11.1 [12.2 kB]\n",
            "Fetched 1,312 kB in 1s (1,204 kB/s)\n",
            "Preconfiguring packages ...\n",
            "Selecting previously unselected package libtext-iconv-perl.\n",
            "(Reading database ... 155062 files and directories currently installed.)\n",
            "Preparing to unpack .../0-libtext-iconv-perl_1.7-5build6_amd64.deb ...\n",
            "Unpacking libtext-iconv-perl (1.7-5build6) ...\n",
            "Selecting previously unselected package libaspell15:amd64.\n",
            "Preparing to unpack .../1-libaspell15_0.60.7~20110707-4ubuntu0.2_amd64.deb ...\n",
            "Unpacking libaspell15:amd64 (0.60.7~20110707-4ubuntu0.2) ...\n",
            "Selecting previously unselected package emacsen-common.\n",
            "Preparing to unpack .../2-emacsen-common_2.0.8_all.deb ...\n",
            "Unpacking emacsen-common (2.0.8) ...\n",
            "Selecting previously unselected package dictionaries-common.\n",
            "Preparing to unpack .../3-dictionaries-common_1.27.2_all.deb ...\n",
            "Adding 'diversion of /usr/share/dict/words to /usr/share/dict/words.pre-dictionaries-common by dictionaries-common'\n",
            "Unpacking dictionaries-common (1.27.2) ...\n",
            "Selecting previously unselected package aspell.\n",
            "Preparing to unpack .../4-aspell_0.60.7~20110707-4ubuntu0.2_amd64.deb ...\n",
            "Unpacking aspell (0.60.7~20110707-4ubuntu0.2) ...\n",
            "Selecting previously unselected package aspell-en.\n",
            "Preparing to unpack .../5-aspell-en_2017.08.24-0-0.1_all.deb ...\n",
            "Unpacking aspell-en (2017.08.24-0-0.1) ...\n",
            "Selecting previously unselected package hunspell-en-us.\n",
            "Preparing to unpack .../6-hunspell-en-us_1%3a2017.08.24_all.deb ...\n",
            "Unpacking hunspell-en-us (1:2017.08.24) ...\n",
            "Selecting previously unselected package libhunspell-1.6-0:amd64.\n",
            "Preparing to unpack .../7-libhunspell-1.6-0_1.6.2-1_amd64.deb ...\n",
            "Unpacking libhunspell-1.6-0:amd64 (1.6.2-1) ...\n",
            "Selecting previously unselected package libenchant1c2a:amd64.\n",
            "Preparing to unpack .../8-libenchant1c2a_1.6.0-11.1_amd64.deb ...\n",
            "Unpacking libenchant1c2a:amd64 (1.6.0-11.1) ...\n",
            "Selecting previously unselected package enchant.\n",
            "Preparing to unpack .../9-enchant_1.6.0-11.1_amd64.deb ...\n",
            "Unpacking enchant (1.6.0-11.1) ...\n",
            "Setting up libhunspell-1.6-0:amd64 (1.6.2-1) ...\n",
            "Setting up libaspell15:amd64 (0.60.7~20110707-4ubuntu0.2) ...\n",
            "Setting up emacsen-common (2.0.8) ...\n",
            "Setting up libtext-iconv-perl (1.7-5build6) ...\n",
            "Setting up dictionaries-common (1.27.2) ...\n",
            "Setting up aspell (0.60.7~20110707-4ubuntu0.2) ...\n",
            "Setting up hunspell-en-us (1:2017.08.24) ...\n",
            "Setting up libenchant1c2a:amd64 (1.6.0-11.1) ...\n",
            "Setting up aspell-en (2017.08.24-0-0.1) ...\n",
            "Setting up enchant (1.6.0-11.1) ...\n",
            "Processing triggers for libc-bin (2.27-3ubuntu1.3) ...\n",
            "/sbin/ldconfig.real: /usr/local/lib/python3.7/dist-packages/ideep4py/lib/libmkldnn.so.0 is not a symbolic link\n",
            "\n",
            "Processing triggers for man-db (2.8.3-2ubuntu0.1) ...\n",
            "Processing triggers for dictionaries-common (1.27.2) ...\n",
            "aspell-autobuildhash: processing: en [en-common].\n",
            "aspell-autobuildhash: processing: en [en-variant_0].\n",
            "aspell-autobuildhash: processing: en [en-variant_1].\n",
            "aspell-autobuildhash: processing: en [en-variant_2].\n",
            "aspell-autobuildhash: processing: en [en-w_accents-only].\n",
            "aspell-autobuildhash: processing: en [en-wo_accents-only].\n",
            "aspell-autobuildhash: processing: en [en_AU-variant_0].\n",
            "aspell-autobuildhash: processing: en [en_AU-variant_1].\n",
            "aspell-autobuildhash: processing: en [en_AU-w_accents-only].\n",
            "aspell-autobuildhash: processing: en [en_AU-wo_accents-only].\n",
            "aspell-autobuildhash: processing: en [en_CA-variant_0].\n",
            "aspell-autobuildhash: processing: en [en_CA-variant_1].\n",
            "aspell-autobuildhash: processing: en [en_CA-w_accents-only].\n",
            "aspell-autobuildhash: processing: en [en_CA-wo_accents-only].\n",
            "aspell-autobuildhash: processing: en [en_GB-ise-w_accents-only].\n",
            "aspell-autobuildhash: processing: en [en_GB-ise-wo_accents-only].\n",
            "aspell-autobuildhash: processing: en [en_GB-ize-w_accents-only].\n",
            "aspell-autobuildhash: processing: en [en_GB-ize-wo_accents-only].\n",
            "aspell-autobuildhash: processing: en [en_GB-variant_0].\n",
            "aspell-autobuildhash: processing: en [en_GB-variant_1].\n",
            "aspell-autobuildhash: processing: en [en_US-w_accents-only].\n",
            "aspell-autobuildhash: processing: en [en_US-wo_accents-only].\n",
            "Collecting pyenchant\n",
            "  Downloading pyenchant-3.2.2-py3-none-any.whl (55 kB)\n",
            "\u001b[K     |████████████████████████████████| 55 kB 2.3 MB/s \n",
            "\u001b[?25hInstalling collected packages: pyenchant\n",
            "Successfully installed pyenchant-3.2.2\n"
          ]
        }
      ]
    },
    {
      "cell_type": "code",
      "metadata": {
        "colab": {
          "base_uri": "https://localhost:8080/"
        },
        "id": "KcHmlxnh7knm",
        "outputId": "165bd97a-5b23-496a-e031-9e610ac9115f"
      },
      "source": [
        "# Libraries used\n",
        "import pandas as pd\n",
        "import numpy as np\n",
        "import nltk\n",
        "from nltk.corpus import stopwords\n",
        "from nltk.stem import PorterStemmer, LancasterStemmer\n",
        "nltk.download('stopwords')\n",
        "nltk.download('punkt')\n",
        "from sklearn.feature_extraction.text import TfidfVectorizer, CountVectorizer\n",
        "from sklearn.linear_model import LogisticRegression\n",
        "from sklearn.model_selection import train_test_split, GridSearchCV\n",
        "from sklearn.metrics import confusion_matrix, precision_score, recall_score, accuracy_score, roc_auc_score, f1_score\n",
        "from sklearn.preprocessing import StandardScaler, OrdinalEncoder, LabelEncoder\n",
        "from sklearn.neighbors import KNeighborsClassifier\n",
        "from sklearn.tree import DecisionTreeClassifier\n",
        "from sklearn.ensemble import RandomForestClassifier\n",
        "from tqdm import tqdm\n",
        "import matplotlib.pyplot as plt\n",
        "import imblearn.over_sampling\n",
        "from sklearn.svm import SVC\n",
        "from sklearn.naive_bayes import BernoulliNB\n",
        "import enchant\n",
        "import statsmodels.api as sm\n",
        "import seaborn as sns"
      ],
      "execution_count": 3,
      "outputs": [
        {
          "output_type": "stream",
          "name": "stdout",
          "text": [
            "[nltk_data] Downloading package stopwords to /root/nltk_data...\n",
            "[nltk_data]   Unzipping corpora/stopwords.zip.\n",
            "[nltk_data] Downloading package punkt to /root/nltk_data...\n",
            "[nltk_data]   Unzipping tokenizers/punkt.zip.\n"
          ]
        },
        {
          "output_type": "stream",
          "name": "stderr",
          "text": [
            "/usr/local/lib/python3.7/dist-packages/sklearn/externals/six.py:31: FutureWarning: The module is deprecated in version 0.21 and will be removed in version 0.23 since we've dropped support for Python 2.7. Please rely on the official version of six (https://pypi.org/project/six/).\n",
            "  \"(https://pypi.org/project/six/).\", FutureWarning)\n",
            "/usr/local/lib/python3.7/dist-packages/sklearn/utils/deprecation.py:144: FutureWarning: The sklearn.neighbors.base module is  deprecated in version 0.22 and will be removed in version 0.24. The corresponding classes / functions should instead be imported from sklearn.neighbors. Anything that cannot be imported from sklearn.neighbors is now part of the private API.\n",
            "  warnings.warn(message, FutureWarning)\n",
            "/usr/local/lib/python3.7/dist-packages/statsmodels/tools/_testing.py:19: FutureWarning: pandas.util.testing is deprecated. Use the functions in the public API at pandas.testing instead.\n",
            "  import pandas.util.testing as tm\n"
          ]
        }
      ]
    },
    {
      "cell_type": "markdown",
      "metadata": {
        "id": "Ziyzqlhje1vz"
      },
      "source": [
        "# EDA"
      ]
    },
    {
      "cell_type": "code",
      "metadata": {
        "id": "dug_-uu6e1v0"
      },
      "source": [
        "# We'll now upload the original preprocessed dataset\n",
        "df = pd.read_csv('/content/drive/MyDrive/Colab Notebooks/fake_job_postings.csv')"
      ],
      "execution_count": 4,
      "outputs": []
    },
    {
      "cell_type": "code",
      "metadata": {
        "colab": {
          "base_uri": "https://localhost:8080/",
          "height": 369
        },
        "id": "qTr4s2tse1v0",
        "outputId": "37143f92-8bec-47fd-9660-e771ecdc8102"
      },
      "source": [
        "sns.catplot(x=\"fraudulent\", data = df, kind = \"count\");"
      ],
      "execution_count": null,
      "outputs": [
        {
          "data": {
            "image/png": "[encoded data removed]",
            "text/plain": [
              "<Figure size 360x360 with 1 Axes>"
            ]
          },
          "metadata": {},
          "output_type": "display_data"
        }
      ]
    },
    {
      "cell_type": "code",
      "metadata": {
        "colab": {
          "base_uri": "https://localhost:8080/",
          "height": 1000
        },
        "id": "I9LRGm_Oe1v1",
        "outputId": "36775516-4072-4454-e26b-66bfb95fa920"
      },
      "source": [
        "fig,(ax1,ax2,ax3,ax4)= plt.subplots(ncols=1, nrows=4, figsize=(20, 25), dpi=100)\n",
        "\n",
        "#counting the number of characters in company_profile column\n",
        "length=df['company_profile'].str.len()\n",
        "ax1.hist(length,bins = 50, color='orangered')\n",
        "ax1.set_title('Company Profile')\n",
        "\n",
        "#counting the number of characters in description column\n",
        "length=df['description'].str.len()\n",
        "ax2.hist(length,bins = 50, color='orangered')\n",
        "ax2.set_title('Description')\n",
        "\n",
        "#counting the number of characters in requirements column\n",
        "length=df['requirements'].str.len()\n",
        "ax3.hist(length,bins = 50, color='orangered')\n",
        "ax3.set_title('Requirements')\n",
        "\n",
        "#counting the number of characters in benefits column\n",
        "length=df[\"benefits\"].str.len()\n",
        "ax4.hist(length, bins = 50, color='orangered')\n",
        "ax4.set_title('Benefits')\n",
        "\n",
        "plt.show();"
      ],
      "execution_count": null,
      "outputs": [
        {
          "data": {
            "image/png": "[encoded data removed]",
            "text/plain": [
              "<Figure size 2000x2500 with 4 Axes>"
            ]
          },
          "metadata": {},
          "output_type": "display_data"
        }
      ]
    },
    {
      "cell_type": "code",
      "metadata": {
        "colab": {
          "base_uri": "https://localhost:8080/",
          "height": 280
        },
        "id": "2Wm1a7Sde1v2",
        "outputId": "62f10f61-45c6-4b22-911f-299dbe3b17eb"
      },
      "source": [
        "sns.countplot(x =\"has_company_logo\", hue=\"fraudulent\", data=df);"
      ],
      "execution_count": null,
      "outputs": [
        {
          "data": {
            "image/png": "[encoded data removed]",
            "text/plain": [
              "<Figure size 432x288 with 1 Axes>"
            ]
          },
          "metadata": {},
          "output_type": "display_data"
        }
      ]
    },
    {
      "cell_type": "code",
      "metadata": {
        "colab": {
          "base_uri": "https://localhost:8080/",
          "height": 405
        },
        "id": "iyOkoTEve1v2",
        "outputId": "7d3246ec-9e63-472d-bfae-61514b6a38d1"
      },
      "source": [
        "plt.figure(figsize=(8,6))\n",
        "sns.countplot(x='telecommuting',hue='fraudulent',data=df)"
      ],
      "execution_count": null,
      "outputs": [
        {
          "data": {
            "text/plain": [
              "<matplotlib.axes._subplots.AxesSubplot at 0x7fa28cb55b50>"
            ]
          },
          "execution_count": 9,
          "metadata": {},
          "output_type": "execute_result"
        },
        {
          "data": {
            "image/png": "[encoded data removed]",
            "text/plain": [
              "<Figure size 576x432 with 1 Axes>"
            ]
          },
          "metadata": {},
          "output_type": "display_data"
        }
      ]
    },
    {
      "cell_type": "code",
      "metadata": {
        "colab": {
          "base_uri": "https://localhost:8080/",
          "height": 411
        },
        "id": "ozZWaGLOe1v3",
        "outputId": "c8e5d1dc-69b2-4b41-892c-da69b6c31aa6"
      },
      "source": [
        "labels = ['Full-time','Contract','Part-time','Temporary','Other']\n",
        "sizes =[df['employment_type'].value_counts()[x] for x in range(5)]\n",
        "explode = (0,0.1,0.2,0.3,0.4)\n",
        "\n",
        "#plot\n",
        "plt.figure(figsize=(7,7))\n",
        "plt.pie(sizes,labels=labels,explode=explode,\n",
        "       shadow=True,startangle=45)\n",
        "plt.axis('equal')\n",
        "plt.show()"
      ],
      "execution_count": null,
      "outputs": [
        {
          "data": {
            "image/png": "[encoded data removed]",
            "text/plain": [
              "<Figure size 504x504 with 1 Axes>"
            ]
          },
          "metadata": {},
          "output_type": "display_data"
        }
      ]
    },
    {
      "cell_type": "code",
      "metadata": {
        "colab": {
          "base_uri": "https://localhost:8080/",
          "height": 493
        },
        "id": "odPJ1cvle1v3",
        "outputId": "c2f42b04-9695-4bcc-b9b1-8df8a96094f6"
      },
      "source": [
        "from wordcloud import WordCloud \n",
        "x =df[df['fraudulent']==1]\n",
        "\n",
        "# word cloud of the job description \n",
        "words = x['description'][~pd.isnull(x['description'])]\n",
        "wordcloud = WordCloud(width=500,height=400).generate(''.join(words))\n",
        "\n",
        "plt.figure(figsize=(10,12))\n",
        "plt.axis('off')\n",
        "plt.title('Likely to be fraudulent...')\n",
        "plt.imshow(wordcloud)\n",
        "plt.show()"
      ],
      "execution_count": null,
      "outputs": [
        {
          "data": {
            "image/png": "[encoded data removed]",
            "text/plain": [
              "<Figure size 720x864 with 1 Axes>"
            ]
          },
          "metadata": {},
          "output_type": "display_data"
        }
      ]
    },
    {
      "cell_type": "markdown",
      "metadata": {
        "id": "WSaeFl30jKS4"
      },
      "source": [
        "## Data Cleaning"
      ]
    },
    {
      "cell_type": "code",
      "metadata": {
        "colab": {
          "base_uri": "https://localhost:8080/"
        },
        "id": "m9oZ3YgHUWK7",
        "outputId": "9b4d1f86-a7c6-4f44-f995-7a872c025d91"
      },
      "source": [
        "df.info()"
      ],
      "execution_count": null,
      "outputs": [
        {
          "name": "stdout",
          "output_type": "stream",
          "text": [
            "<class 'pandas.core.frame.DataFrame'>\n",
            "RangeIndex: 17880 entries, 0 to 17879\n",
            "Data columns (total 18 columns):\n",
            " #   Column               Non-Null Count  Dtype \n",
            "---  ------               --------------  ----- \n",
            " 0   job_id               17880 non-null  int64 \n",
            " 1   title                17880 non-null  object\n",
            " 2   location             17534 non-null  object\n",
            " 3   department           6333 non-null   object\n",
            " 4   salary_range         2868 non-null   object\n",
            " 5   company_profile      14572 non-null  object\n",
            " 6   description          17879 non-null  object\n",
            " 7   requirements         15185 non-null  object\n",
            " 8   benefits             10670 non-null  object\n",
            " 9   telecommuting        17880 non-null  int64 \n",
            " 10  has_company_logo     17880 non-null  int64 \n",
            " 11  has_questions        17880 non-null  int64 \n",
            " 12  employment_type      14409 non-null  object\n",
            " 13  required_experience  10830 non-null  object\n",
            " 14  required_education   9775 non-null   object\n",
            " 15  industry             12977 non-null  object\n",
            " 16  function             11425 non-null  object\n",
            " 17  fraudulent           17880 non-null  int64 \n",
            "dtypes: int64(5), object(13)\n",
            "memory usage: 2.5+ MB\n"
          ]
        }
      ]
    },
    {
      "cell_type": "code",
      "metadata": {
        "colab": {
          "base_uri": "https://localhost:8080/",
          "height": 267
        },
        "id": "yVtyW31q7knq",
        "outputId": "271f729c-44b3-4d18-ac69-c3b029cd0c02"
      },
      "source": [
        "df.head(2)"
      ],
      "execution_count": null,
      "outputs": [
        {
          "data": {
            "text/html": [
              "<div>\n",
              "<style scoped>\n",
              "    .dataframe tbody tr th:only-of-type {\n",
              "        vertical-align: middle;\n",
              "    }\n",
              "\n",
              "    .dataframe tbody tr th {\n",
              "        vertical-align: top;\n",
              "    }\n",
              "\n",
              "    .dataframe thead th {\n",
              "        text-align: right;\n",
              "    }\n",
              "</style>\n",
              "<table border=\"1\" class=\"dataframe\">\n",
              "  <thead>\n",
              "    <tr style=\"text-align: right;\">\n",
              "      <th></th>\n",
              "      <th>job_id</th>\n",
              "      <th>title</th>\n",
              "      <th>location</th>\n",
              "      <th>department</th>\n",
              "      <th>salary_range</th>\n",
              "      <th>company_profile</th>\n",
              "      <th>description</th>\n",
              "      <th>requirements</th>\n",
              "      <th>benefits</th>\n",
              "      <th>telecommuting</th>\n",
              "      <th>has_company_logo</th>\n",
              "      <th>has_questions</th>\n",
              "      <th>employment_type</th>\n",
              "      <th>required_experience</th>\n",
              "      <th>required_education</th>\n",
              "      <th>industry</th>\n",
              "      <th>function</th>\n",
              "      <th>fraudulent</th>\n",
              "    </tr>\n",
              "  </thead>\n",
              "  <tbody>\n",
              "    <tr>\n",
              "      <th>0</th>\n",
              "      <td>1</td>\n",
              "      <td>Marketing Intern</td>\n",
              "      <td>US, NY, New York</td>\n",
              "      <td>Marketing</td>\n",
              "      <td>NaN</td>\n",
              "      <td>We're Food52, and we've created a groundbreaki...</td>\n",
              "      <td>Food52, a fast-growing, James Beard Award-winn...</td>\n",
              "      <td>Experience with content management systems a m...</td>\n",
              "      <td>NaN</td>\n",
              "      <td>0</td>\n",
              "      <td>1</td>\n",
              "      <td>0</td>\n",
              "      <td>Other</td>\n",
              "      <td>Internship</td>\n",
              "      <td>NaN</td>\n",
              "      <td>NaN</td>\n",
              "      <td>Marketing</td>\n",
              "      <td>0</td>\n",
              "    </tr>\n",
              "    <tr>\n",
              "      <th>1</th>\n",
              "      <td>2</td>\n",
              "      <td>Customer Service - Cloud Video Production</td>\n",
              "      <td>NZ, , Auckland</td>\n",
              "      <td>Success</td>\n",
              "      <td>NaN</td>\n",
              "      <td>90 Seconds, the worlds Cloud Video Production ...</td>\n",
              "      <td>Organised - Focused - Vibrant - Awesome!Do you...</td>\n",
              "      <td>What we expect from you:Your key responsibilit...</td>\n",
              "      <td>What you will get from usThrough being part of...</td>\n",
              "      <td>0</td>\n",
              "      <td>1</td>\n",
              "      <td>0</td>\n",
              "      <td>Full-time</td>\n",
              "      <td>Not Applicable</td>\n",
              "      <td>NaN</td>\n",
              "      <td>Marketing and Advertising</td>\n",
              "      <td>Customer Service</td>\n",
              "      <td>0</td>\n",
              "    </tr>\n",
              "  </tbody>\n",
              "</table>\n",
              "</div>"
            ],
            "text/plain": [
              "   job_id  ... fraudulent\n",
              "0       1  ...          0\n",
              "1       2  ...          0\n",
              "\n",
              "[2 rows x 18 columns]"
            ]
          },
          "execution_count": 13,
          "metadata": {},
          "output_type": "execute_result"
        }
      ]
    },
    {
      "cell_type": "code",
      "metadata": {
        "colab": {
          "base_uri": "https://localhost:8080/"
        },
        "id": "LCBIW6St7knt",
        "outputId": "615e2af8-fee0-4fa4-dd46-4c6a9d0a90bc"
      },
      "source": [
        "df.columns"
      ],
      "execution_count": null,
      "outputs": [
        {
          "data": {
            "text/plain": [
              "Index(['job_id', 'title', 'location', 'department', 'salary_range',\n",
              "       'company_profile', 'description', 'requirements', 'benefits',\n",
              "       'telecommuting', 'has_company_logo', 'has_questions', 'employment_type',\n",
              "       'required_experience', 'required_education', 'industry', 'function',\n",
              "       'fraudulent'],\n",
              "      dtype='object')"
            ]
          },
          "execution_count": 14,
          "metadata": {},
          "output_type": "execute_result"
        }
      ]
    },
    {
      "cell_type": "code",
      "metadata": {
        "colab": {
          "base_uri": "https://localhost:8080/"
        },
        "id": "wxek52J2qAwS",
        "outputId": "d4294e74-b742-4038-91ac-80c7dad7bc5f"
      },
      "source": [
        "# We have to be carefull when selecting how to deal with Nans to avoid significant drop in minority data\n",
        "a = df[~df.description.isna()]\n",
        "b = df[~df.company_profile.isna()]\n",
        "c = df[~df.requirements.isna()]\n",
        "d = df[~df.benefits.isna()]\n",
        "e = df[~df.isna()]\n",
        "f = df[~df.salary_range.isna()]\n",
        "g = df[~df.telecommuting.isna()]\n",
        "h = df[~df.has_company_logo.isna()]\n",
        "i = df[~df.has_questions.isna()]\n",
        "j = df[~df.employment_type.isna()]\n",
        "k = df[~df.required_education.isna()]\n",
        "l = df[~df.required_experience.isna()]\n",
        "\n",
        "print('Original:           ',df.shape, df[df.fraudulent == 1].shape, df[df.fraudulent == 0].shape)\n",
        "print('Description:        ',a.shape, a[a.fraudulent == 1].shape, a[a.fraudulent == 0].shape)\n",
        "print('Company Profile:    ',b.shape, b[b.fraudulent == 1].shape, b[b.fraudulent == 0].shape)\n",
        "print('Requirements:       ',c.shape, c[c.fraudulent == 1].shape, c[c.fraudulent == 0].shape)\n",
        "print('Benefits:           ',d.shape, d[d.fraudulent == 1].shape, d[d.fraudulent == 0].shape)\n",
        "print('Salary Range:       ',f.shape, f[f.fraudulent == 1].shape, f[f.fraudulent == 0].shape)\n",
        "print('Telecommuting:      ',g.shape, g[g.fraudulent == 1].shape, g[g.fraudulent == 0].shape)\n",
        "print('Has Company Logo:   ',h.shape, h[h.fraudulent == 1].shape, h[h.fraudulent == 0].shape)\n",
        "print('Has Questions:      ',i.shape, i[i.fraudulent == 1].shape, i[i.fraudulent == 0].shape)\n",
        "print('Employment Type:    ',j.shape, j[j.fraudulent == 1].shape, j[j.fraudulent == 0].shape)\n",
        "print('Required Education: ',k.shape, k[k.fraudulent == 1].shape, k[k.fraudulent == 0].shape)\n",
        "print('Required Experience:',l.shape, l[l.fraudulent == 1].shape, l[l.fraudulent == 0].shape)\n",
        "print('All:                ',e.shape, e[e.fraudulent == 1].shape, e[e.fraudulent == 0].shape)"
      ],
      "execution_count": null,
      "outputs": [
        {
          "name": "stdout",
          "output_type": "stream",
          "text": [
            "Original:            (17880, 18) (866, 18) (17014, 18)\n",
            "Description:         (17879, 18) (865, 18) (17014, 18)\n",
            "Company Profile:     (14572, 18) (279, 18) (14293, 18)\n",
            "Requirements:        (15185, 18) (712, 18) (14473, 18)\n",
            "Benefits:            (10670, 18) (502, 18) (10168, 18)\n",
            "Salary Range:        (2868, 18) (223, 18) (2645, 18)\n",
            "Telecommuting:       (17880, 18) (866, 18) (17014, 18)\n",
            "Has Company Logo:    (17880, 18) (866, 18) (17014, 18)\n",
            "Has Questions:       (17880, 18) (866, 18) (17014, 18)\n",
            "Employment Type:     (14409, 18) (625, 18) (13784, 18)\n",
            "Required Education:  (9775, 18) (415, 18) (9360, 18)\n",
            "Required Experience: (10830, 18) (431, 18) (10399, 18)\n",
            "All:                 (17880, 18) (866, 18) (17014, 18)\n"
          ]
        }
      ]
    },
    {
      "cell_type": "code",
      "metadata": {
        "id": "Y83ATRYA7knt"
      },
      "source": [
        "# We'll fill all None values with 'Missing' \n",
        "df.fillna('Missing', inplace=True)"
      ],
      "execution_count": 5,
      "outputs": []
    },
    {
      "cell_type": "code",
      "metadata": {
        "id": "JZe0rKYk7knu"
      },
      "source": [
        "# Here we are going to compine all texts data into one columns to ease the NLP process.\n",
        "df['texts'] = df['company_profile'] + '.. ' + df['description'] + '.. ' + df['requirements'] + '.. ' + df['benefits']"
      ],
      "execution_count": 6,
      "outputs": []
    },
    {
      "cell_type": "code",
      "metadata": {
        "colab": {
          "base_uri": "https://localhost:8080/",
          "height": 293
        },
        "id": "bd7rQXZm7kn0",
        "scrolled": true,
        "outputId": "2ee29b62-5a60-463d-c5b3-ac9631ebd2dc"
      },
      "source": [
        "# We'll now drop all the columns that will not be needed.\n",
        "# We'll also drop the columns including the texts data that we combined before.\n",
        "df.drop(columns=['company_profile','description','requirements','benefits','location','title','industry','department','function','job_id', 'salary_range'],inplace = True)\n",
        "df.head()"
      ],
      "execution_count": 7,
      "outputs": [
        {
          "output_type": "execute_result",
          "data": {
            "text/html": [
              "<div>\n",
              "<style scoped>\n",
              "    .dataframe tbody tr th:only-of-type {\n",
              "        vertical-align: middle;\n",
              "    }\n",
              "\n",
              "    .dataframe tbody tr th {\n",
              "        vertical-align: top;\n",
              "    }\n",
              "\n",
              "    .dataframe thead th {\n",
              "        text-align: right;\n",
              "    }\n",
              "</style>\n",
              "<table border=\"1\" class=\"dataframe\">\n",
              "  <thead>\n",
              "    <tr style=\"text-align: right;\">\n",
              "      <th></th>\n",
              "      <th>telecommuting</th>\n",
              "      <th>has_company_logo</th>\n",
              "      <th>has_questions</th>\n",
              "      <th>employment_type</th>\n",
              "      <th>required_experience</th>\n",
              "      <th>required_education</th>\n",
              "      <th>fraudulent</th>\n",
              "      <th>texts</th>\n",
              "    </tr>\n",
              "  </thead>\n",
              "  <tbody>\n",
              "    <tr>\n",
              "      <th>0</th>\n",
              "      <td>0</td>\n",
              "      <td>1</td>\n",
              "      <td>0</td>\n",
              "      <td>Other</td>\n",
              "      <td>Internship</td>\n",
              "      <td>Missing</td>\n",
              "      <td>0</td>\n",
              "      <td>We're Food52, and we've created a groundbreaki...</td>\n",
              "    </tr>\n",
              "    <tr>\n",
              "      <th>1</th>\n",
              "      <td>0</td>\n",
              "      <td>1</td>\n",
              "      <td>0</td>\n",
              "      <td>Full-time</td>\n",
              "      <td>Not Applicable</td>\n",
              "      <td>Missing</td>\n",
              "      <td>0</td>\n",
              "      <td>90 Seconds, the worlds Cloud Video Production ...</td>\n",
              "    </tr>\n",
              "    <tr>\n",
              "      <th>2</th>\n",
              "      <td>0</td>\n",
              "      <td>1</td>\n",
              "      <td>0</td>\n",
              "      <td>Missing</td>\n",
              "      <td>Missing</td>\n",
              "      <td>Missing</td>\n",
              "      <td>0</td>\n",
              "      <td>Valor Services provides Workforce Solutions th...</td>\n",
              "    </tr>\n",
              "    <tr>\n",
              "      <th>3</th>\n",
              "      <td>0</td>\n",
              "      <td>1</td>\n",
              "      <td>0</td>\n",
              "      <td>Full-time</td>\n",
              "      <td>Mid-Senior level</td>\n",
              "      <td>Bachelor's Degree</td>\n",
              "      <td>0</td>\n",
              "      <td>Our passion for improving quality of life thro...</td>\n",
              "    </tr>\n",
              "    <tr>\n",
              "      <th>4</th>\n",
              "      <td>0</td>\n",
              "      <td>1</td>\n",
              "      <td>1</td>\n",
              "      <td>Full-time</td>\n",
              "      <td>Mid-Senior level</td>\n",
              "      <td>Bachelor's Degree</td>\n",
              "      <td>0</td>\n",
              "      <td>SpotSource Solutions LLC is a Global Human Cap...</td>\n",
              "    </tr>\n",
              "  </tbody>\n",
              "</table>\n",
              "</div>"
            ],
            "text/plain": [
              "   telecommuting  ...                                              texts\n",
              "0              0  ...  We're Food52, and we've created a groundbreaki...\n",
              "1              0  ...  90 Seconds, the worlds Cloud Video Production ...\n",
              "2              0  ...  Valor Services provides Workforce Solutions th...\n",
              "3              0  ...  Our passion for improving quality of life thro...\n",
              "4              0  ...  SpotSource Solutions LLC is a Global Human Cap...\n",
              "\n",
              "[5 rows x 8 columns]"
            ]
          },
          "metadata": {},
          "execution_count": 7
        }
      ]
    },
    {
      "cell_type": "code",
      "metadata": {
        "colab": {
          "base_uri": "https://localhost:8080/"
        },
        "id": "W7sHLFAz7kn4",
        "outputId": "dfe12bc8-d938-40ce-ac39-084de2821b9f"
      },
      "source": [
        "# We'll check now if there is 'Missing' value in any of the columns\n",
        "print(df['telecommuting'].unique())\n",
        "print(df['has_company_logo'].unique())\n",
        "print(df['has_questions'].unique())\n",
        "print(df['employment_type'].unique())\n",
        "print(df['required_experience'].unique())\n",
        "print(df['required_education'].unique())"
      ],
      "execution_count": 8,
      "outputs": [
        {
          "output_type": "stream",
          "name": "stdout",
          "text": [
            "[0 1]\n",
            "[1 0]\n",
            "[0 1]\n",
            "['Other' 'Full-time' 'Missing' 'Part-time' 'Contract' 'Temporary']\n",
            "['Internship' 'Not Applicable' 'Missing' 'Mid-Senior level' 'Associate'\n",
            " 'Entry level' 'Executive' 'Director']\n",
            "['Missing' \"Bachelor's Degree\" \"Master's Degree\"\n",
            " 'High School or equivalent' 'Unspecified'\n",
            " 'Some College Coursework Completed' 'Vocational' 'Certification'\n",
            " 'Associate Degree' 'Professional' 'Doctorate'\n",
            " 'Some High School Coursework' 'Vocational - Degree'\n",
            " 'Vocational - HS Diploma']\n"
          ]
        }
      ]
    },
    {
      "cell_type": "code",
      "metadata": {
        "id": "hin5y_Xd7kn8"
      },
      "source": [
        "# We'll convert the 'Missing' data in the employment_type column and will assign it to the 'Other' type.\n",
        "df.employment_type.replace('Missing', 'Other', inplace = True)"
      ],
      "execution_count": 9,
      "outputs": []
    },
    {
      "cell_type": "code",
      "metadata": {
        "id": "Cu9RT9Sa7kn9"
      },
      "source": [
        "# We'll convert the 'Missing' data in the required_experience column and will assign it to 'Not Applicable'.\n",
        "df.required_experience.replace('Missing', 'Not Applicable', inplace = True)"
      ],
      "execution_count": 10,
      "outputs": []
    },
    {
      "cell_type": "code",
      "metadata": {
        "id": "XVlkHSM67kn9"
      },
      "source": [
        "# For the required_education column, we will join 'Vocational - Degree' and 'Vocational - HS Diploma' to 'Vocational'.\n",
        "# And we'll convert the 'Missing' data in the column to be 'Unspecified'.\n",
        "# We'll also convert 'Some High School Coursework' to 'High School or equivalent'.\n",
        "df.required_education.replace('Vocational - Degree', 'Vocational', inplace = True)\n",
        "df.required_education.replace('Vocational - HS Diploma', 'Vocational', inplace = True)\n",
        "df.required_education.replace('Missing', 'Unspecified', inplace = True)\n",
        "df.required_education.replace('Some High School Coursework', 'High School or equivalent', inplace = True)"
      ],
      "execution_count": 11,
      "outputs": []
    },
    {
      "cell_type": "code",
      "metadata": {
        "id": "psVAZkZm7kn-"
      },
      "source": [
        "# We will use OrdinalEncoder to convert categorical features into numerical data that can be used in models.\n",
        "encoder = OrdinalEncoder()\n",
        "df[['employment_type',\n",
        "    'required_experience',\n",
        "    'required_education']] = encoder.fit_transform(df[['employment_type',\n",
        "                                                       'required_experience',\n",
        "                                                       'required_education']])"
      ],
      "execution_count": 12,
      "outputs": []
    },
    {
      "cell_type": "markdown",
      "metadata": {
        "id": "KNYSiepupHEw"
      },
      "source": [
        "## Dealing with Textual Data"
      ]
    },
    {
      "cell_type": "code",
      "metadata": {
        "colab": {
          "base_uri": "https://localhost:8080/",
          "height": 111
        },
        "id": "kEh4ktMN7kn_",
        "outputId": "0db18b64-2aa8-4234-e6e2-f9dda6378a4c"
      },
      "source": [
        "df.head(2)"
      ],
      "execution_count": null,
      "outputs": [
        {
          "data": {
            "text/html": [
              "<div>\n",
              "<style scoped>\n",
              "    .dataframe tbody tr th:only-of-type {\n",
              "        vertical-align: middle;\n",
              "    }\n",
              "\n",
              "    .dataframe tbody tr th {\n",
              "        vertical-align: top;\n",
              "    }\n",
              "\n",
              "    .dataframe thead th {\n",
              "        text-align: right;\n",
              "    }\n",
              "</style>\n",
              "<table border=\"1\" class=\"dataframe\">\n",
              "  <thead>\n",
              "    <tr style=\"text-align: right;\">\n",
              "      <th></th>\n",
              "      <th>telecommuting</th>\n",
              "      <th>has_company_logo</th>\n",
              "      <th>has_questions</th>\n",
              "      <th>employment_type</th>\n",
              "      <th>required_experience</th>\n",
              "      <th>required_education</th>\n",
              "      <th>fraudulent</th>\n",
              "      <th>texts</th>\n",
              "    </tr>\n",
              "  </thead>\n",
              "  <tbody>\n",
              "    <tr>\n",
              "      <th>0</th>\n",
              "      <td>0</td>\n",
              "      <td>1</td>\n",
              "      <td>0</td>\n",
              "      <td>2.0</td>\n",
              "      <td>4.0</td>\n",
              "      <td>8.0</td>\n",
              "      <td>0</td>\n",
              "      <td>We're Food52, and we've created a groundbreaki...</td>\n",
              "    </tr>\n",
              "    <tr>\n",
              "      <th>1</th>\n",
              "      <td>0</td>\n",
              "      <td>1</td>\n",
              "      <td>0</td>\n",
              "      <td>1.0</td>\n",
              "      <td>6.0</td>\n",
              "      <td>8.0</td>\n",
              "      <td>0</td>\n",
              "      <td>90 Seconds, the worlds Cloud Video Production ...</td>\n",
              "    </tr>\n",
              "  </tbody>\n",
              "</table>\n",
              "</div>"
            ],
            "text/plain": [
              "   telecommuting  ...                                              texts\n",
              "0              0  ...  We're Food52, and we've created a groundbreaki...\n",
              "1              0  ...  90 Seconds, the worlds Cloud Video Production ...\n",
              "\n",
              "[2 rows x 8 columns]"
            ]
          },
          "execution_count": 24,
          "metadata": {},
          "output_type": "execute_result"
        }
      ]
    },
    {
      "cell_type": "markdown",
      "metadata": {
        "id": "GbS3j8NT7koF"
      },
      "source": [
        "Now, lets drop all stop words and stem our words and get it tokenized. There is two ways to do that. The two main ways are described below."
      ]
    },
    {
      "cell_type": "markdown",
      "metadata": {
        "id": "M8fyZ2bc7koF"
      },
      "source": [
        "PorterStemmer does not often generate stems that are actual English words. It does not keep a lookup table for actual stems of the word but applies algorithmic rules to generate stems. It uses the rules to decide whether it is wise to strip a suffix."
      ]
    },
    {
      "cell_type": "markdown",
      "metadata": {
        "id": "fRlMhxUh7koF"
      },
      "source": [
        "The LancasterStemmer (Paice-Husk stemmer) is an iterative algorithm with rules saved externally. One table containing about 120 rules indexed by the last letter of a suffix. On each iteration, it tries to find an applicable rule by the last character of the word. Each rule specifies either a deletion or replacement of an ending. If there is no such rule, it terminates. It also terminates if a word starts with a vowel and there are only two letters left or if a word starts with a consonant and there are only three characters left. Otherwise, the rule is applied, and the process repeats."
      ]
    },
    {
      "cell_type": "code",
      "metadata": {
        "colab": {
          "base_uri": "https://localhost:8080/",
          "height": 597
        },
        "id": "CH1FTq8b7koG",
        "outputId": "9243ebcd-5bef-4d5a-aabd-991a96cc1888"
      },
      "source": [
        "# We will first convert all texts to lowercase \n",
        "df.apply(lambda x: x.astype(str).str.lower())"
      ],
      "execution_count": 13,
      "outputs": [
        {
          "output_type": "execute_result",
          "data": {
            "text/html": [
              "<div>\n",
              "<style scoped>\n",
              "    .dataframe tbody tr th:only-of-type {\n",
              "        vertical-align: middle;\n",
              "    }\n",
              "\n",
              "    .dataframe tbody tr th {\n",
              "        vertical-align: top;\n",
              "    }\n",
              "\n",
              "    .dataframe thead th {\n",
              "        text-align: right;\n",
              "    }\n",
              "</style>\n",
              "<table border=\"1\" class=\"dataframe\">\n",
              "  <thead>\n",
              "    <tr style=\"text-align: right;\">\n",
              "      <th></th>\n",
              "      <th>telecommuting</th>\n",
              "      <th>has_company_logo</th>\n",
              "      <th>has_questions</th>\n",
              "      <th>employment_type</th>\n",
              "      <th>required_experience</th>\n",
              "      <th>required_education</th>\n",
              "      <th>fraudulent</th>\n",
              "      <th>texts</th>\n",
              "    </tr>\n",
              "  </thead>\n",
              "  <tbody>\n",
              "    <tr>\n",
              "      <th>0</th>\n",
              "      <td>0</td>\n",
              "      <td>1</td>\n",
              "      <td>0</td>\n",
              "      <td>2.0</td>\n",
              "      <td>4.0</td>\n",
              "      <td>8.0</td>\n",
              "      <td>0</td>\n",
              "      <td>we're food52, and we've created a groundbreaki...</td>\n",
              "    </tr>\n",
              "    <tr>\n",
              "      <th>1</th>\n",
              "      <td>0</td>\n",
              "      <td>1</td>\n",
              "      <td>0</td>\n",
              "      <td>1.0</td>\n",
              "      <td>6.0</td>\n",
              "      <td>8.0</td>\n",
              "      <td>0</td>\n",
              "      <td>90 seconds, the worlds cloud video production ...</td>\n",
              "    </tr>\n",
              "    <tr>\n",
              "      <th>2</th>\n",
              "      <td>0</td>\n",
              "      <td>1</td>\n",
              "      <td>0</td>\n",
              "      <td>2.0</td>\n",
              "      <td>6.0</td>\n",
              "      <td>8.0</td>\n",
              "      <td>0</td>\n",
              "      <td>valor services provides workforce solutions th...</td>\n",
              "    </tr>\n",
              "    <tr>\n",
              "      <th>3</th>\n",
              "      <td>0</td>\n",
              "      <td>1</td>\n",
              "      <td>0</td>\n",
              "      <td>1.0</td>\n",
              "      <td>5.0</td>\n",
              "      <td>1.0</td>\n",
              "      <td>0</td>\n",
              "      <td>our passion for improving quality of life thro...</td>\n",
              "    </tr>\n",
              "    <tr>\n",
              "      <th>4</th>\n",
              "      <td>0</td>\n",
              "      <td>1</td>\n",
              "      <td>1</td>\n",
              "      <td>1.0</td>\n",
              "      <td>5.0</td>\n",
              "      <td>1.0</td>\n",
              "      <td>0</td>\n",
              "      <td>spotsource solutions llc is a global human cap...</td>\n",
              "    </tr>\n",
              "    <tr>\n",
              "      <th>...</th>\n",
              "      <td>...</td>\n",
              "      <td>...</td>\n",
              "      <td>...</td>\n",
              "      <td>...</td>\n",
              "      <td>...</td>\n",
              "      <td>...</td>\n",
              "      <td>...</td>\n",
              "      <td>...</td>\n",
              "    </tr>\n",
              "    <tr>\n",
              "      <th>17875</th>\n",
              "      <td>0</td>\n",
              "      <td>1</td>\n",
              "      <td>1</td>\n",
              "      <td>1.0</td>\n",
              "      <td>5.0</td>\n",
              "      <td>8.0</td>\n",
              "      <td>0</td>\n",
              "      <td>vend is looking for some awesome new talent to...</td>\n",
              "    </tr>\n",
              "    <tr>\n",
              "      <th>17876</th>\n",
              "      <td>0</td>\n",
              "      <td>1</td>\n",
              "      <td>1</td>\n",
              "      <td>1.0</td>\n",
              "      <td>5.0</td>\n",
              "      <td>1.0</td>\n",
              "      <td>0</td>\n",
              "      <td>weblinc is the e-commerce platform and service...</td>\n",
              "    </tr>\n",
              "    <tr>\n",
              "      <th>17877</th>\n",
              "      <td>0</td>\n",
              "      <td>0</td>\n",
              "      <td>0</td>\n",
              "      <td>1.0</td>\n",
              "      <td>6.0</td>\n",
              "      <td>8.0</td>\n",
              "      <td>0</td>\n",
              "      <td>we provide full time permanent positions for m...</td>\n",
              "    </tr>\n",
              "    <tr>\n",
              "      <th>17878</th>\n",
              "      <td>0</td>\n",
              "      <td>0</td>\n",
              "      <td>1</td>\n",
              "      <td>0.0</td>\n",
              "      <td>6.0</td>\n",
              "      <td>6.0</td>\n",
              "      <td>0</td>\n",
              "      <td>missing.. nemsia studios is looking for an exp...</td>\n",
              "    </tr>\n",
              "    <tr>\n",
              "      <th>17879</th>\n",
              "      <td>0</td>\n",
              "      <td>1</td>\n",
              "      <td>1</td>\n",
              "      <td>1.0</td>\n",
              "      <td>5.0</td>\n",
              "      <td>8.0</td>\n",
              "      <td>0</td>\n",
              "      <td>vend is looking for some awesome new talent to...</td>\n",
              "    </tr>\n",
              "  </tbody>\n",
              "</table>\n",
              "<p>17880 rows × 8 columns</p>\n",
              "</div>"
            ],
            "text/plain": [
              "      telecommuting  ...                                              texts\n",
              "0                 0  ...  we're food52, and we've created a groundbreaki...\n",
              "1                 0  ...  90 seconds, the worlds cloud video production ...\n",
              "2                 0  ...  valor services provides workforce solutions th...\n",
              "3                 0  ...  our passion for improving quality of life thro...\n",
              "4                 0  ...  spotsource solutions llc is a global human cap...\n",
              "...             ...  ...                                                ...\n",
              "17875             0  ...  vend is looking for some awesome new talent to...\n",
              "17876             0  ...  weblinc is the e-commerce platform and service...\n",
              "17877             0  ...  we provide full time permanent positions for m...\n",
              "17878             0  ...  missing.. nemsia studios is looking for an exp...\n",
              "17879             0  ...  vend is looking for some awesome new talent to...\n",
              "\n",
              "[17880 rows x 8 columns]"
            ]
          },
          "metadata": {},
          "execution_count": 13
        }
      ]
    },
    {
      "cell_type": "code",
      "metadata": {
        "id": "0_q34toz7koG"
      },
      "source": [
        "lancaster=LancasterStemmer()\n",
        "stops = set(stopwords.words(\"english\"))\n",
        "d = enchant.Dict(\"en_US\")\n",
        "def identify_tokens(row):\n",
        "    review = row\n",
        "    tokens = nltk.word_tokenize(review)\n",
        "    token_words = [w for w in tokens if w.isalpha()]\n",
        "    meaningful_words = [w for w in token_words if (not w in stops) and (d.check(w))]\n",
        "    stemmed_list = [lancaster.stem(word) for word in meaningful_words]\n",
        "    joined_words = (' '.join(stemmed_list))\n",
        "    return joined_words"
      ],
      "execution_count": 14,
      "outputs": []
    },
    {
      "cell_type": "code",
      "metadata": {
        "id": "5ypDYVwy7koH"
      },
      "source": [
        "df['texts'] = df['texts'].apply(identify_tokens)"
      ],
      "execution_count": 15,
      "outputs": []
    },
    {
      "cell_type": "code",
      "metadata": {
        "id": "ExqAo5RZ7koI"
      },
      "source": [
        "df.to_csv('Cleaned_data.csv')"
      ],
      "execution_count": 16,
      "outputs": []
    },
    {
      "cell_type": "code",
      "metadata": {
        "id": "3h21Wcot7koI"
      },
      "source": [
        "df = pd.read_csv('Cleaned_data.csv', index_col=0)"
      ],
      "execution_count": 17,
      "outputs": []
    },
    {
      "cell_type": "code",
      "metadata": {
        "colab": {
          "base_uri": "https://localhost:8080/",
          "height": 204
        },
        "id": "Sfztej2z7koI",
        "outputId": "d0ac4dd2-524c-4a2d-b131-572739f3bbe2"
      },
      "source": [
        "df.head()"
      ],
      "execution_count": null,
      "outputs": [
        {
          "data": {
            "text/html": [
              "<div>\n",
              "<style scoped>\n",
              "    .dataframe tbody tr th:only-of-type {\n",
              "        vertical-align: middle;\n",
              "    }\n",
              "\n",
              "    .dataframe tbody tr th {\n",
              "        vertical-align: top;\n",
              "    }\n",
              "\n",
              "    .dataframe thead th {\n",
              "        text-align: right;\n",
              "    }\n",
              "</style>\n",
              "<table border=\"1\" class=\"dataframe\">\n",
              "  <thead>\n",
              "    <tr style=\"text-align: right;\">\n",
              "      <th></th>\n",
              "      <th>telecommuting</th>\n",
              "      <th>has_company_logo</th>\n",
              "      <th>has_questions</th>\n",
              "      <th>employment_type</th>\n",
              "      <th>required_experience</th>\n",
              "      <th>required_education</th>\n",
              "      <th>fraudulent</th>\n",
              "      <th>texts</th>\n",
              "    </tr>\n",
              "  </thead>\n",
              "  <tbody>\n",
              "    <tr>\n",
              "      <th>0</th>\n",
              "      <td>0</td>\n",
              "      <td>1</td>\n",
              "      <td>0</td>\n",
              "      <td>2.0</td>\n",
              "      <td>4.0</td>\n",
              "      <td>8.0</td>\n",
              "      <td>0</td>\n",
              "      <td>we cre groundbreak cook sit we support connect...</td>\n",
              "    </tr>\n",
              "    <tr>\n",
              "      <th>1</th>\n",
              "      <td>0</td>\n",
              "      <td>1</td>\n",
              "      <td>0</td>\n",
              "      <td>1.0</td>\n",
              "      <td>6.0</td>\n",
              "      <td>8.0</td>\n",
              "      <td>0</td>\n",
              "      <td>second world cloud video produc second world c...</td>\n",
              "    </tr>\n",
              "    <tr>\n",
              "      <th>2</th>\n",
              "      <td>0</td>\n",
              "      <td>1</td>\n",
              "      <td>0</td>\n",
              "      <td>2.0</td>\n",
              "      <td>6.0</td>\n",
              "      <td>8.0</td>\n",
              "      <td>0</td>\n",
              "      <td>val serv provid workforc solv meet nee company...</td>\n",
              "    </tr>\n",
              "    <tr>\n",
              "      <th>3</th>\n",
              "      <td>0</td>\n",
              "      <td>1</td>\n",
              "      <td>0</td>\n",
              "      <td>1.0</td>\n",
              "      <td>5.0</td>\n",
              "      <td>1.0</td>\n",
              "      <td>0</td>\n",
              "      <td>our pass improv qual lif geograph heart everyt...</td>\n",
              "    </tr>\n",
              "    <tr>\n",
              "      <th>4</th>\n",
              "      <td>0</td>\n",
              "      <td>1</td>\n",
              "      <td>1</td>\n",
              "      <td>1.0</td>\n",
              "      <td>5.0</td>\n",
              "      <td>1.0</td>\n",
              "      <td>0</td>\n",
              "      <td>solv glob hum capit man consult firm headquart...</td>\n",
              "    </tr>\n",
              "  </tbody>\n",
              "</table>\n",
              "</div>"
            ],
            "text/plain": [
              "   telecommuting  ...                                              texts\n",
              "0              0  ...  we cre groundbreak cook sit we support connect...\n",
              "1              0  ...  second world cloud video produc second world c...\n",
              "2              0  ...  val serv provid workforc solv meet nee company...\n",
              "3              0  ...  our pass improv qual lif geograph heart everyt...\n",
              "4              0  ...  solv glob hum capit man consult firm headquart...\n",
              "\n",
              "[5 rows x 8 columns]"
            ]
          },
          "execution_count": 30,
          "metadata": {},
          "output_type": "execute_result"
        }
      ]
    },
    {
      "cell_type": "markdown",
      "metadata": {
        "id": "xhRRswNg7koL"
      },
      "source": [
        "# Create functions for our models"
      ]
    },
    {
      "cell_type": "markdown",
      "metadata": {
        "id": "9D283seqnZGL"
      },
      "source": [
        "## Logistic Regression Model"
      ]
    },
    {
      "cell_type": "code",
      "metadata": {
        "id": "DvRDIySY7koL"
      },
      "source": [
        "def log_reg_model(X_train, X_test, y_train, y_test):\n",
        "    final_model = LogisticRegression(class_weight={1 : 10, 0 : 1}, \n",
        "                                     max_iter=10000, \n",
        "                                     solver='liblinear', \n",
        "                                     C = 1000).fit(X_train, y_train)\n",
        "    \n",
        "    y_pred = final_model.predict(X_test)\n",
        "    \n",
        "    print('Score:             ', final_model.score(X_train, y_train))\n",
        "    print('roc_auc_score:     ', roc_auc_score(y_test, y_pred))\n",
        "    print('precision_score:   ', precision_score(y_test, y_pred))\n",
        "    print('accuracy_score:    ', accuracy_score(y_test, y_pred))\n",
        "    print('recall_score:      ', recall_score(y_test, y_pred))\n",
        "    print('f1_score:          ', f1_score(y_test, y_pred))\n",
        "    print(confusion_matrix(y_test, y_pred))\n",
        "    \n",
        "    return {'Score': final_model.score(X_train, y_train), \n",
        "            'roc_auc_score:': roc_auc_score(y_test, y_pred),\n",
        "            'precision_score:': precision_score(y_test, y_pred),\n",
        "            'accuracy_score:': accuracy_score(y_test, y_pred),\n",
        "            'recall_score:': recall_score(y_test, y_pred),\n",
        "            'f1_score:': f1_score(y_test, y_pred)}"
      ],
      "execution_count": 18,
      "outputs": []
    },
    {
      "cell_type": "markdown",
      "metadata": {
        "id": "nkTtCs3aneq1"
      },
      "source": [
        "## KNN Model"
      ]
    },
    {
      "cell_type": "code",
      "metadata": {
        "id": "QY6lMs3a7koL"
      },
      "source": [
        "def knn_model(X_train, X_test, y_train, y_test):\n",
        "    \n",
        "    knn = KNeighborsClassifier(n_neighbors = 41, weights='uniform').fit(X_train, y_train)\n",
        "    \n",
        "    y_pred = knn.predict(X_test)\n",
        "    \n",
        "    print('Score:             ', knn.score(X_train, y_train))\n",
        "    print('roc_auc_score:     ', roc_auc_score(y_test, y_pred))\n",
        "    print('precision_score:   ', precision_score(y_test, y_pred))\n",
        "    print('accuracy_score:    ', accuracy_score(y_test, y_pred))\n",
        "    print('recall_score:      ', recall_score(y_test, y_pred))\n",
        "    print('f1_score:          ', f1_score(y_test, y_pred))\n",
        "    print(confusion_matrix(y_test, y_pred))\n",
        "\n",
        "    return {'Score': knn.score(X_train, y_train), \n",
        "            'roc_auc_score:': roc_auc_score(y_test, y_pred),\n",
        "            'precision_score:': precision_score(y_test, y_pred),\n",
        "            'accuracy_score:': accuracy_score(y_test, y_pred),\n",
        "            'recall_score:': recall_score(y_test, y_pred),\n",
        "            'f1_score:': f1_score(y_test, y_pred)}"
      ],
      "execution_count": 19,
      "outputs": []
    },
    {
      "cell_type": "markdown",
      "metadata": {
        "id": "xpZuzbPinhqe"
      },
      "source": [
        "## Decision Tree Model"
      ]
    },
    {
      "cell_type": "code",
      "metadata": {
        "id": "q1_Watqa7koL"
      },
      "source": [
        "def D_T_C_model(X_train, X_test, y_train, y_test):\n",
        "    \n",
        "    dtc = DecisionTreeClassifier().fit(X_train,y_train)\n",
        "    y_pred = dtc.predict(X_test)\n",
        "    \n",
        "    print('Score:             ', dtc.score(X_train, y_train))\n",
        "    print('roc_auc_score:     ', roc_auc_score(y_test, y_pred))\n",
        "    print('precision_score:   ', precision_score(y_test, y_pred))\n",
        "    print('accuracy_score:    ', accuracy_score(y_test, y_pred))\n",
        "    print('recall_score:      ', recall_score(y_test, y_pred))\n",
        "    print('f1_score:          ', f1_score(y_test, y_pred))\n",
        "    print(confusion_matrix(y_test, y_pred))\n",
        "\n",
        "    return {'Score': dtc.score(X_train, y_train), \n",
        "            'roc_auc_score:': roc_auc_score(y_test, y_pred),\n",
        "            'precision_score:': precision_score(y_test, y_pred),\n",
        "            'accuracy_score:': accuracy_score(y_test, y_pred),\n",
        "            'recall_score:': recall_score(y_test, y_pred),\n",
        "            'f1_score:': f1_score(y_test, y_pred)}"
      ],
      "execution_count": 20,
      "outputs": []
    },
    {
      "cell_type": "markdown",
      "metadata": {
        "id": "NytmrG_Fnmh7"
      },
      "source": [
        "## Random Forest Model"
      ]
    },
    {
      "cell_type": "code",
      "metadata": {
        "id": "snxVGpX87koM"
      },
      "source": [
        "def R_F_C_model(X_train, X_test, y_train, y_test):\n",
        "    \n",
        "    rfc = RandomForestClassifier(n_estimators=100).fit(X_train,y_train)\n",
        "    y_pred = rfc.predict(X_test)\n",
        "    \n",
        "    print('Score:             ', rfc.score(X_train, y_train))\n",
        "    print('roc_auc_score:     ', roc_auc_score(y_test, y_pred))\n",
        "    print('precision_score:   ', precision_score(y_test, y_pred))\n",
        "    print('accuracy_score:    ', accuracy_score(y_test, y_pred))\n",
        "    print('recall_score:      ', recall_score(y_test, y_pred))\n",
        "    print('f1_score:          ', f1_score(y_test, y_pred))\n",
        "    print(confusion_matrix(y_test, y_pred))\n",
        "\n",
        "    return {'Score': rfc.score(X_train, y_train), \n",
        "            'roc_auc_score:': roc_auc_score(y_test, y_pred),\n",
        "            'precision_score:': precision_score(y_test, y_pred),\n",
        "            'accuracy_score:': accuracy_score(y_test, y_pred),\n",
        "            'recall_score:': recall_score(y_test, y_pred),\n",
        "            'f1_score:': f1_score(y_test, y_pred)}"
      ],
      "execution_count": 21,
      "outputs": []
    },
    {
      "cell_type": "markdown",
      "metadata": {
        "id": "xZU9UctFnsgV"
      },
      "source": [
        "## SVM Model"
      ]
    },
    {
      "cell_type": "code",
      "metadata": {
        "id": "8KNPbjUVVr7A"
      },
      "source": [
        "def svm_model(X_train, X_test, y_train, y_test):\n",
        "    \n",
        "    model = SVC(class_weight = {1:10, 0:1}).fit(X_train,y_train)\n",
        "    y_pred = model.predict(X_test)\n",
        "    \n",
        "    print('Score:             ', model.score(X_train, y_train))\n",
        "    print('roc_auc_score:     ', roc_auc_score(y_test, y_pred))\n",
        "    print('precision_score:   ', precision_score(y_test, y_pred))\n",
        "    print('accuracy_score:    ', accuracy_score(y_test, y_pred))\n",
        "    print('recall_score:      ', recall_score(y_test, y_pred))\n",
        "    print('f1_score:          ', f1_score(y_test, y_pred))\n",
        "    print(confusion_matrix(y_test, y_pred))\n",
        "    \n",
        "    return {'Score': model.score(X_train, y_train), \n",
        "            'roc_auc_score:': roc_auc_score(y_test, y_pred),\n",
        "            'precision_score:': precision_score(y_test, y_pred),\n",
        "            'accuracy_score:': accuracy_score(y_test, y_pred),\n",
        "            'recall_score:': recall_score(y_test, y_pred),\n",
        "            'f1_score:': f1_score(y_test, y_pred)}"
      ],
      "execution_count": 22,
      "outputs": []
    },
    {
      "cell_type": "markdown",
      "metadata": {
        "id": "NJzDlpnZnwyz"
      },
      "source": [
        "## Naive Bayes Model"
      ]
    },
    {
      "cell_type": "code",
      "metadata": {
        "id": "Yusd4d6FPh_k"
      },
      "source": [
        "def B_naive_bayes_model(X_train, X_test, y_train, y_test):\n",
        "    \n",
        "    model = BernoulliNB().fit(X_train,y_train)\n",
        "    y_pred = model.predict(X_test)\n",
        "    \n",
        "    print('Score:             ', model.score(X_train, y_train))\n",
        "    print('roc_auc_score:     ', roc_auc_score(y_test, y_pred))\n",
        "    print('precision_score:   ', precision_score(y_test, y_pred))\n",
        "    print('accuracy_score:    ', accuracy_score(y_test, y_pred))\n",
        "    print('recall_score:      ', recall_score(y_test, y_pred))\n",
        "    print('f1_score:          ', f1_score(y_test, y_pred))\n",
        "    print(confusion_matrix(y_test, y_pred))\n",
        "\n",
        "    return {'Score': model.score(X_train, y_train), \n",
        "            'roc_auc_score:': roc_auc_score(y_test, y_pred),\n",
        "            'precision_score:': precision_score(y_test, y_pred),\n",
        "            'accuracy_score:': accuracy_score(y_test, y_pred),\n",
        "            'recall_score:': recall_score(y_test, y_pred),\n",
        "            'f1_score:': f1_score(y_test, y_pred)}"
      ],
      "execution_count": 23,
      "outputs": []
    },
    {
      "cell_type": "markdown",
      "metadata": {
        "id": "oodc-Fdw7koM"
      },
      "source": [
        "# Experimentation"
      ]
    },
    {
      "cell_type": "markdown",
      "metadata": {
        "id": "G3QHMjjBe1v_"
      },
      "source": [
        "## Dealing with 'texts' column using TfidfVectorizer()"
      ]
    },
    {
      "cell_type": "markdown",
      "metadata": {
        "id": "p9mWpOHte1wA"
      },
      "source": [
        "Tf = Number of a particular word in a sentenceNumber  of words in the sentence \n",
        "\n",
        "Idf =log⁡(Number of  sentenceNumber  of sentences containing a particular word) "
      ]
    },
    {
      "cell_type": "code",
      "metadata": {
        "id": "QVwTZ-g0AH2T"
      },
      "source": [
        "# Now we will use the TfidfVectorizer().\n",
        "tfidf = TfidfVectorizer(decode_error='ignore', max_features=2000)\n",
        "X = tfidf.fit_transform(df['texts'].values.astype('str'))\n",
        "y = df.fraudulent"
      ],
      "execution_count": null,
      "outputs": []
    },
    {
      "cell_type": "markdown",
      "metadata": {
        "id": "ZKuRiLV5MxIM"
      },
      "source": [
        "It is not effective to transform the whole vocabulary, as the data may have some exceptionally rare words, which, if passed to TfidfVectorizer().fit(), will add unwanted dimensions to inputs in the future. One of the appropriate techniques in this case, for instance, would be to print out word frequences accross documents and then set a certain threshold for them. That's why we used (max_features=2000)."
      ]
    },
    {
      "cell_type": "code",
      "metadata": {
        "id": "JIV7q7PG7koJ"
      },
      "source": [
        "X = pd.DataFrame(X.toarray())"
      ],
      "execution_count": null,
      "outputs": []
    },
    {
      "cell_type": "code",
      "metadata": {
        "id": "w1wwy21PD3b4"
      },
      "source": [
        "X[['telecommuting',\n",
        "   'has_company_logo',\n",
        "   'has_questions',\n",
        "   'employment_type',\n",
        "   'required_experience',\n",
        "   'required_education']] =  df[['telecommuting','has_company_logo',\n",
        "                                 'has_questions','employment_type', \n",
        "                                 'required_experience','required_education']]"
      ],
      "execution_count": null,
      "outputs": []
    },
    {
      "cell_type": "code",
      "metadata": {
        "colab": {
          "base_uri": "https://localhost:8080/",
          "height": 129
        },
        "id": "Jtp-t55zD3PT",
        "outputId": "cc77ebb3-5eec-47ab-fceb-2d2e0d3d6667"
      },
      "source": [
        "X.head(1)"
      ],
      "execution_count": null,
      "outputs": [
        {
          "data": {
            "text/html": [
              "<div>\n",
              "<style scoped>\n",
              "    .dataframe tbody tr th:only-of-type {\n",
              "        vertical-align: middle;\n",
              "    }\n",
              "\n",
              "    .dataframe tbody tr th {\n",
              "        vertical-align: top;\n",
              "    }\n",
              "\n",
              "    .dataframe thead th {\n",
              "        text-align: right;\n",
              "    }\n",
              "</style>\n",
              "<table border=\"1\" class=\"dataframe\">\n",
              "  <thead>\n",
              "    <tr style=\"text-align: right;\">\n",
              "      <th></th>\n",
              "      <th>0</th>\n",
              "      <th>1</th>\n",
              "      <th>2</th>\n",
              "      <th>3</th>\n",
              "      <th>4</th>\n",
              "      <th>5</th>\n",
              "      <th>6</th>\n",
              "      <th>7</th>\n",
              "      <th>8</th>\n",
              "      <th>9</th>\n",
              "      <th>10</th>\n",
              "      <th>11</th>\n",
              "      <th>12</th>\n",
              "      <th>13</th>\n",
              "      <th>14</th>\n",
              "      <th>15</th>\n",
              "      <th>16</th>\n",
              "      <th>17</th>\n",
              "      <th>18</th>\n",
              "      <th>19</th>\n",
              "      <th>20</th>\n",
              "      <th>21</th>\n",
              "      <th>22</th>\n",
              "      <th>23</th>\n",
              "      <th>24</th>\n",
              "      <th>25</th>\n",
              "      <th>26</th>\n",
              "      <th>27</th>\n",
              "      <th>28</th>\n",
              "      <th>29</th>\n",
              "      <th>30</th>\n",
              "      <th>31</th>\n",
              "      <th>32</th>\n",
              "      <th>33</th>\n",
              "      <th>34</th>\n",
              "      <th>35</th>\n",
              "      <th>36</th>\n",
              "      <th>37</th>\n",
              "      <th>38</th>\n",
              "      <th>39</th>\n",
              "      <th>...</th>\n",
              "      <th>1966</th>\n",
              "      <th>1967</th>\n",
              "      <th>1968</th>\n",
              "      <th>1969</th>\n",
              "      <th>1970</th>\n",
              "      <th>1971</th>\n",
              "      <th>1972</th>\n",
              "      <th>1973</th>\n",
              "      <th>1974</th>\n",
              "      <th>1975</th>\n",
              "      <th>1976</th>\n",
              "      <th>1977</th>\n",
              "      <th>1978</th>\n",
              "      <th>1979</th>\n",
              "      <th>1980</th>\n",
              "      <th>1981</th>\n",
              "      <th>1982</th>\n",
              "      <th>1983</th>\n",
              "      <th>1984</th>\n",
              "      <th>1985</th>\n",
              "      <th>1986</th>\n",
              "      <th>1987</th>\n",
              "      <th>1988</th>\n",
              "      <th>1989</th>\n",
              "      <th>1990</th>\n",
              "      <th>1991</th>\n",
              "      <th>1992</th>\n",
              "      <th>1993</th>\n",
              "      <th>1994</th>\n",
              "      <th>1995</th>\n",
              "      <th>1996</th>\n",
              "      <th>1997</th>\n",
              "      <th>1998</th>\n",
              "      <th>1999</th>\n",
              "      <th>telecommuting</th>\n",
              "      <th>has_company_logo</th>\n",
              "      <th>has_questions</th>\n",
              "      <th>employment_type</th>\n",
              "      <th>required_experience</th>\n",
              "      <th>required_education</th>\n",
              "    </tr>\n",
              "  </thead>\n",
              "  <tbody>\n",
              "    <tr>\n",
              "      <th>0</th>\n",
              "      <td>0.0</td>\n",
              "      <td>0.0</td>\n",
              "      <td>0.0</td>\n",
              "      <td>0.0</td>\n",
              "      <td>0.0</td>\n",
              "      <td>0.0</td>\n",
              "      <td>0.0</td>\n",
              "      <td>0.0</td>\n",
              "      <td>0.0</td>\n",
              "      <td>0.0</td>\n",
              "      <td>0.0</td>\n",
              "      <td>0.0</td>\n",
              "      <td>0.0</td>\n",
              "      <td>0.0</td>\n",
              "      <td>0.0</td>\n",
              "      <td>0.0</td>\n",
              "      <td>0.0</td>\n",
              "      <td>0.0</td>\n",
              "      <td>0.0</td>\n",
              "      <td>0.0</td>\n",
              "      <td>0.0</td>\n",
              "      <td>0.0</td>\n",
              "      <td>0.0</td>\n",
              "      <td>0.0</td>\n",
              "      <td>0.0</td>\n",
              "      <td>0.0</td>\n",
              "      <td>0.0</td>\n",
              "      <td>0.0</td>\n",
              "      <td>0.0</td>\n",
              "      <td>0.088222</td>\n",
              "      <td>0.0</td>\n",
              "      <td>0.0</td>\n",
              "      <td>0.0</td>\n",
              "      <td>0.0</td>\n",
              "      <td>0.0</td>\n",
              "      <td>0.0</td>\n",
              "      <td>0.0</td>\n",
              "      <td>0.0</td>\n",
              "      <td>0.0</td>\n",
              "      <td>0.0</td>\n",
              "      <td>...</td>\n",
              "      <td>0.0</td>\n",
              "      <td>0.0</td>\n",
              "      <td>0.0</td>\n",
              "      <td>0.0</td>\n",
              "      <td>0.0</td>\n",
              "      <td>0.0</td>\n",
              "      <td>0.0</td>\n",
              "      <td>0.0</td>\n",
              "      <td>0.0</td>\n",
              "      <td>0.0</td>\n",
              "      <td>0.0</td>\n",
              "      <td>0.070621</td>\n",
              "      <td>0.0</td>\n",
              "      <td>0.0</td>\n",
              "      <td>0.0</td>\n",
              "      <td>0.0</td>\n",
              "      <td>0.0</td>\n",
              "      <td>0.0</td>\n",
              "      <td>0.0</td>\n",
              "      <td>0.0</td>\n",
              "      <td>0.0</td>\n",
              "      <td>0.0</td>\n",
              "      <td>0.088905</td>\n",
              "      <td>0.0</td>\n",
              "      <td>0.0</td>\n",
              "      <td>0.0</td>\n",
              "      <td>0.0</td>\n",
              "      <td>0.0</td>\n",
              "      <td>0.164441</td>\n",
              "      <td>0.0</td>\n",
              "      <td>0.0</td>\n",
              "      <td>0.0</td>\n",
              "      <td>0.0</td>\n",
              "      <td>0.0</td>\n",
              "      <td>0</td>\n",
              "      <td>1</td>\n",
              "      <td>0</td>\n",
              "      <td>2.0</td>\n",
              "      <td>4.0</td>\n",
              "      <td>8.0</td>\n",
              "    </tr>\n",
              "  </tbody>\n",
              "</table>\n",
              "<p>1 rows × 2006 columns</p>\n",
              "</div>"
            ],
            "text/plain": [
              "     0    1    2  ...  employment_type  required_experience  required_education\n",
              "0  0.0  0.0  0.0  ...              2.0                  4.0                 8.0\n",
              "\n",
              "[1 rows x 2006 columns]"
            ]
          },
          "execution_count": 40,
          "metadata": {},
          "output_type": "execute_result"
        }
      ]
    },
    {
      "cell_type": "code",
      "metadata": {
        "id": "RAWfQpwjsQra"
      },
      "source": [
        "X_train, X_test, y_train, y_test = train_test_split(X, y, test_size=0.2)"
      ],
      "execution_count": null,
      "outputs": []
    },
    {
      "cell_type": "code",
      "metadata": {
        "colab": {
          "base_uri": "https://localhost:8080/"
        },
        "id": "UEdiSxPUPh2-",
        "outputId": "ec515ec6-ed73-4ce1-a223-858408133773"
      },
      "source": [
        "tfidf_lrm = log_reg_model(X_train, X_test, y_train, y_test)"
      ],
      "execution_count": null,
      "outputs": [
        {
          "name": "stdout",
          "output_type": "stream",
          "text": [
            "Score:              1.0\n",
            "roc_auc_score:      0.8848640806880591\n",
            "precision_score:    0.7556818181818182\n",
            "accuracy_score:     0.9776286353467561\n",
            "recall_score:       0.7823529411764706\n",
            "f1_score:           0.7687861271676302\n",
            "[[3363   43]\n",
            " [  37  133]]\n"
          ]
        }
      ]
    },
    {
      "cell_type": "code",
      "metadata": {
        "id": "swxWUjPWHure"
      },
      "source": [
        "tfidf_knn = knn_model(X_train, X_test, y_train, y_test)"
      ],
      "execution_count": null,
      "outputs": []
    },
    {
      "cell_type": "code",
      "metadata": {
        "colab": {
          "base_uri": "https://localhost:8080/"
        },
        "id": "wdaJt5V8sCvO",
        "outputId": "1c51eecf-d377-45a1-8a17-5893d27dff86"
      },
      "source": [
        "tfidf_dtm = D_T_C_model(X_train, X_test, y_train, y_test)"
      ],
      "execution_count": null,
      "outputs": [
        {
          "name": "stdout",
          "output_type": "stream",
          "text": [
            "Score:              1.0\n",
            "roc_auc_score:      0.8403060343338745\n",
            "precision_score:    0.7195121951219512\n",
            "accuracy_score:     0.9725950782997763\n",
            "recall_score:       0.6941176470588235\n",
            "f1_score:           0.7065868263473054\n",
            "[[3360   46]\n",
            " [  52  118]]\n"
          ]
        }
      ]
    },
    {
      "cell_type": "code",
      "metadata": {
        "colab": {
          "base_uri": "https://localhost:8080/"
        },
        "id": "wT6wnR55sCib",
        "outputId": "0783c48a-7986-4eaf-f0b4-c5659fa79b9d"
      },
      "source": [
        "tfidf_rfm = R_F_C_model(X_train, X_test, y_train, y_test)"
      ],
      "execution_count": null,
      "outputs": [
        {
          "name": "stdout",
          "output_type": "stream",
          "text": [
            "Score:              1.0\n",
            "roc_auc_score:      0.7704414355289972\n",
            "precision_score:    0.989247311827957\n",
            "accuracy_score:     0.9779082774049217\n",
            "recall_score:       0.5411764705882353\n",
            "f1_score:           0.6996197718631179\n",
            "[[3405    1]\n",
            " [  78   92]]\n"
          ]
        }
      ]
    },
    {
      "cell_type": "code",
      "metadata": {
        "colab": {
          "base_uri": "https://localhost:8080/"
        },
        "id": "EJZnH2qUsCU2",
        "outputId": "bd0e89f0-752c-48fb-fb2a-97e6d02e4734"
      },
      "source": [
        "tfidf_svm = svm_model(X_train, X_test, y_train, y_test)"
      ],
      "execution_count": null,
      "outputs": [
        {
          "name": "stdout",
          "output_type": "stream",
          "text": [
            "Score:              0.9321168903803132\n",
            "roc_auc_score:      0.9043245483748402\n",
            "precision_score:    0.39210526315789473\n",
            "accuracy_score:     0.9295302013422819\n",
            "recall_score:       0.8764705882352941\n",
            "f1_score:           0.5418181818181819\n",
            "[[3175  231]\n",
            " [  21  149]]\n"
          ]
        }
      ]
    },
    {
      "cell_type": "code",
      "metadata": {
        "colab": {
          "base_uri": "https://localhost:8080/"
        },
        "id": "bJlb4jLusCJe",
        "outputId": "14d1c92b-bf6b-4aba-98cb-fc687a2184bd"
      },
      "source": [
        "tfidf_nbm = B_naive_bayes_model(X_train, X_test, y_train, y_test)"
      ],
      "execution_count": null,
      "outputs": [
        {
          "name": "stdout",
          "output_type": "stream",
          "text": [
            "Score:              0.8364793064876958\n",
            "roc_auc_score:      0.8320524334219889\n",
            "precision_score:    0.20497803806734993\n",
            "accuracy_score:     0.839765100671141\n",
            "recall_score:       0.8235294117647058\n",
            "f1_score:           0.328253223915592\n",
            "[[2863  543]\n",
            " [  30  140]]\n"
          ]
        }
      ]
    },
    {
      "cell_type": "markdown",
      "metadata": {
        "id": "nMy-TKR_e1wJ"
      },
      "source": [
        "## Dealing with 'texts' column using TfidfVectorizer(ngram_range=(1, 2)) "
      ]
    },
    {
      "cell_type": "code",
      "metadata": {
        "id": "AEc-C1o7s_84"
      },
      "source": [
        "# Now we will use the TfidfVectorizer().\n",
        "tfidf = TfidfVectorizer(decode_error='ignore', max_features=2000)\n",
        "X = tfidf.fit_transform(df['texts'].values.astype('str'))\n",
        "y = df.fraudulent"
      ],
      "execution_count": null,
      "outputs": []
    },
    {
      "cell_type": "code",
      "metadata": {
        "id": "sftHmNnts_84"
      },
      "source": [
        "X = pd.DataFrame(X.toarray())"
      ],
      "execution_count": null,
      "outputs": []
    },
    {
      "cell_type": "code",
      "metadata": {
        "id": "vTN2uN1as_85"
      },
      "source": [
        "X[['telecommuting',\n",
        "   'has_company_logo',\n",
        "   'has_questions',\n",
        "   'employment_type',\n",
        "   'required_experience',\n",
        "   'required_education']] =  df[['telecommuting','has_company_logo',\n",
        "                                 'has_questions','employment_type', \n",
        "                                 'required_experience','required_education']]"
      ],
      "execution_count": null,
      "outputs": []
    },
    {
      "cell_type": "code",
      "metadata": {
        "colab": {
          "base_uri": "https://localhost:8080/",
          "height": 129
        },
        "id": "RADutPSNs_85",
        "outputId": "9bbeebf7-2137-4843-aed6-9081ebd27184"
      },
      "source": [
        "X.head(1)"
      ],
      "execution_count": null,
      "outputs": [
        {
          "data": {
            "text/html": [
              "<div>\n",
              "<style scoped>\n",
              "    .dataframe tbody tr th:only-of-type {\n",
              "        vertical-align: middle;\n",
              "    }\n",
              "\n",
              "    .dataframe tbody tr th {\n",
              "        vertical-align: top;\n",
              "    }\n",
              "\n",
              "    .dataframe thead th {\n",
              "        text-align: right;\n",
              "    }\n",
              "</style>\n",
              "<table border=\"1\" class=\"dataframe\">\n",
              "  <thead>\n",
              "    <tr style=\"text-align: right;\">\n",
              "      <th></th>\n",
              "      <th>0</th>\n",
              "      <th>1</th>\n",
              "      <th>2</th>\n",
              "      <th>3</th>\n",
              "      <th>4</th>\n",
              "      <th>5</th>\n",
              "      <th>6</th>\n",
              "      <th>7</th>\n",
              "      <th>8</th>\n",
              "      <th>9</th>\n",
              "      <th>10</th>\n",
              "      <th>11</th>\n",
              "      <th>12</th>\n",
              "      <th>13</th>\n",
              "      <th>14</th>\n",
              "      <th>15</th>\n",
              "      <th>16</th>\n",
              "      <th>17</th>\n",
              "      <th>18</th>\n",
              "      <th>19</th>\n",
              "      <th>20</th>\n",
              "      <th>21</th>\n",
              "      <th>22</th>\n",
              "      <th>23</th>\n",
              "      <th>24</th>\n",
              "      <th>25</th>\n",
              "      <th>26</th>\n",
              "      <th>27</th>\n",
              "      <th>28</th>\n",
              "      <th>29</th>\n",
              "      <th>30</th>\n",
              "      <th>31</th>\n",
              "      <th>32</th>\n",
              "      <th>33</th>\n",
              "      <th>34</th>\n",
              "      <th>35</th>\n",
              "      <th>36</th>\n",
              "      <th>37</th>\n",
              "      <th>38</th>\n",
              "      <th>39</th>\n",
              "      <th>...</th>\n",
              "      <th>1966</th>\n",
              "      <th>1967</th>\n",
              "      <th>1968</th>\n",
              "      <th>1969</th>\n",
              "      <th>1970</th>\n",
              "      <th>1971</th>\n",
              "      <th>1972</th>\n",
              "      <th>1973</th>\n",
              "      <th>1974</th>\n",
              "      <th>1975</th>\n",
              "      <th>1976</th>\n",
              "      <th>1977</th>\n",
              "      <th>1978</th>\n",
              "      <th>1979</th>\n",
              "      <th>1980</th>\n",
              "      <th>1981</th>\n",
              "      <th>1982</th>\n",
              "      <th>1983</th>\n",
              "      <th>1984</th>\n",
              "      <th>1985</th>\n",
              "      <th>1986</th>\n",
              "      <th>1987</th>\n",
              "      <th>1988</th>\n",
              "      <th>1989</th>\n",
              "      <th>1990</th>\n",
              "      <th>1991</th>\n",
              "      <th>1992</th>\n",
              "      <th>1993</th>\n",
              "      <th>1994</th>\n",
              "      <th>1995</th>\n",
              "      <th>1996</th>\n",
              "      <th>1997</th>\n",
              "      <th>1998</th>\n",
              "      <th>1999</th>\n",
              "      <th>telecommuting</th>\n",
              "      <th>has_company_logo</th>\n",
              "      <th>has_questions</th>\n",
              "      <th>employment_type</th>\n",
              "      <th>required_experience</th>\n",
              "      <th>required_education</th>\n",
              "    </tr>\n",
              "  </thead>\n",
              "  <tbody>\n",
              "    <tr>\n",
              "      <th>0</th>\n",
              "      <td>0.0</td>\n",
              "      <td>0.0</td>\n",
              "      <td>0.0</td>\n",
              "      <td>0.0</td>\n",
              "      <td>0.0</td>\n",
              "      <td>0.0</td>\n",
              "      <td>0.0</td>\n",
              "      <td>0.0</td>\n",
              "      <td>0.0</td>\n",
              "      <td>0.0</td>\n",
              "      <td>0.0</td>\n",
              "      <td>0.0</td>\n",
              "      <td>0.0</td>\n",
              "      <td>0.0</td>\n",
              "      <td>0.0</td>\n",
              "      <td>0.0</td>\n",
              "      <td>0.0</td>\n",
              "      <td>0.0</td>\n",
              "      <td>0.0</td>\n",
              "      <td>0.0</td>\n",
              "      <td>0.0</td>\n",
              "      <td>0.0</td>\n",
              "      <td>0.0</td>\n",
              "      <td>0.0</td>\n",
              "      <td>0.0</td>\n",
              "      <td>0.0</td>\n",
              "      <td>0.0</td>\n",
              "      <td>0.0</td>\n",
              "      <td>0.0</td>\n",
              "      <td>0.088222</td>\n",
              "      <td>0.0</td>\n",
              "      <td>0.0</td>\n",
              "      <td>0.0</td>\n",
              "      <td>0.0</td>\n",
              "      <td>0.0</td>\n",
              "      <td>0.0</td>\n",
              "      <td>0.0</td>\n",
              "      <td>0.0</td>\n",
              "      <td>0.0</td>\n",
              "      <td>0.0</td>\n",
              "      <td>...</td>\n",
              "      <td>0.0</td>\n",
              "      <td>0.0</td>\n",
              "      <td>0.0</td>\n",
              "      <td>0.0</td>\n",
              "      <td>0.0</td>\n",
              "      <td>0.0</td>\n",
              "      <td>0.0</td>\n",
              "      <td>0.0</td>\n",
              "      <td>0.0</td>\n",
              "      <td>0.0</td>\n",
              "      <td>0.0</td>\n",
              "      <td>0.070621</td>\n",
              "      <td>0.0</td>\n",
              "      <td>0.0</td>\n",
              "      <td>0.0</td>\n",
              "      <td>0.0</td>\n",
              "      <td>0.0</td>\n",
              "      <td>0.0</td>\n",
              "      <td>0.0</td>\n",
              "      <td>0.0</td>\n",
              "      <td>0.0</td>\n",
              "      <td>0.0</td>\n",
              "      <td>0.088905</td>\n",
              "      <td>0.0</td>\n",
              "      <td>0.0</td>\n",
              "      <td>0.0</td>\n",
              "      <td>0.0</td>\n",
              "      <td>0.0</td>\n",
              "      <td>0.164441</td>\n",
              "      <td>0.0</td>\n",
              "      <td>0.0</td>\n",
              "      <td>0.0</td>\n",
              "      <td>0.0</td>\n",
              "      <td>0.0</td>\n",
              "      <td>0</td>\n",
              "      <td>1</td>\n",
              "      <td>0</td>\n",
              "      <td>2.0</td>\n",
              "      <td>4.0</td>\n",
              "      <td>8.0</td>\n",
              "    </tr>\n",
              "  </tbody>\n",
              "</table>\n",
              "<p>1 rows × 2006 columns</p>\n",
              "</div>"
            ],
            "text/plain": [
              "     0    1    2  ...  employment_type  required_experience  required_education\n",
              "0  0.0  0.0  0.0  ...              2.0                  4.0                 8.0\n",
              "\n",
              "[1 rows x 2006 columns]"
            ]
          },
          "execution_count": 51,
          "metadata": {},
          "output_type": "execute_result"
        }
      ]
    },
    {
      "cell_type": "code",
      "metadata": {
        "id": "HuWvd3WYs_85"
      },
      "source": [
        "X_train, X_test, y_train, y_test = train_test_split(X, y, test_size=0.2)"
      ],
      "execution_count": null,
      "outputs": []
    },
    {
      "cell_type": "code",
      "metadata": {
        "colab": {
          "base_uri": "https://localhost:8080/"
        },
        "id": "qCy-Ngrms_85",
        "outputId": "64aa6704-3f5e-4001-ab16-aa3f228d6a4c"
      },
      "source": [
        "tfidf_lrm_nr2 = log_reg_model(X_train, X_test, y_train, y_test)"
      ],
      "execution_count": null,
      "outputs": [
        {
          "name": "stdout",
          "output_type": "stream",
          "text": [
            "Score:              1.0\n",
            "roc_auc_score:      0.89395186021811\n",
            "precision_score:    0.6777251184834123\n",
            "accuracy_score:     0.9714765100671141\n",
            "recall_score:       0.807909604519774\n",
            "f1_score:           0.7371134020618557\n",
            "[[3331   68]\n",
            " [  34  143]]\n"
          ]
        }
      ]
    },
    {
      "cell_type": "code",
      "metadata": {
        "id": "gK7yJphXs_85"
      },
      "source": [
        "tfidf_knn_nr2 = knn_model(X_train, X_test, y_train, y_test)"
      ],
      "execution_count": null,
      "outputs": []
    },
    {
      "cell_type": "code",
      "metadata": {
        "colab": {
          "base_uri": "https://localhost:8080/"
        },
        "id": "66_S_TTWs_85",
        "outputId": "82c12798-2727-4ec8-e999-6c148be7303c"
      },
      "source": [
        "tfidf_dtm_nr2 = D_T_C_model(X_train, X_test, y_train, y_test)"
      ],
      "execution_count": null,
      "outputs": [
        {
          "name": "stdout",
          "output_type": "stream",
          "text": [
            "Score:              1.0\n",
            "roc_auc_score:      0.8527557955729751\n",
            "precision_score:    0.6808510638297872\n",
            "accuracy_score:     0.9695190156599552\n",
            "recall_score:       0.7231638418079096\n",
            "f1_score:           0.7013698630136985\n",
            "[[3339   60]\n",
            " [  49  128]]\n"
          ]
        }
      ]
    },
    {
      "cell_type": "code",
      "metadata": {
        "colab": {
          "base_uri": "https://localhost:8080/"
        },
        "id": "L3KS8k6os_85",
        "outputId": "c63ed21b-054e-420b-8e91-ba98ca401d22"
      },
      "source": [
        "tfidf_rfm_nr2 = R_F_C_model(X_train, X_test, y_train, y_test)"
      ],
      "execution_count": null,
      "outputs": [
        {
          "name": "stdout",
          "output_type": "stream",
          "text": [
            "Score:              1.0\n",
            "roc_auc_score:      0.771186440677966\n",
            "precision_score:    1.0\n",
            "accuracy_score:     0.9773489932885906\n",
            "recall_score:       0.5423728813559322\n",
            "f1_score:           0.7032967032967034\n",
            "[[3399    0]\n",
            " [  81   96]]\n"
          ]
        }
      ]
    },
    {
      "cell_type": "code",
      "metadata": {
        "colab": {
          "base_uri": "https://localhost:8080/"
        },
        "id": "dhwPhPEQs_85",
        "outputId": "73af776d-d377-43f2-d503-a40a741caa4c"
      },
      "source": [
        "tfidf_svm_nr2 = svm_model(X_train, X_test, y_train, y_test)"
      ],
      "execution_count": null,
      "outputs": [
        {
          "name": "stdout",
          "output_type": "stream",
          "text": [
            "Score:              0.9307885906040269\n",
            "roc_auc_score:      0.896634603397809\n",
            "precision_score:    0.3710843373493976\n",
            "accuracy_score:     0.9205816554809844\n",
            "recall_score:       0.8700564971751412\n",
            "f1_score:           0.5202702702702702\n",
            "[[3138  261]\n",
            " [  23  154]]\n"
          ]
        }
      ]
    },
    {
      "cell_type": "code",
      "metadata": {
        "colab": {
          "base_uri": "https://localhost:8080/"
        },
        "id": "kjRO-Vn9s_85",
        "outputId": "38f00b42-7a63-46d0-c276-85e60d97eaac"
      },
      "source": [
        "tfidf_nbm_nr2 = B_naive_bayes_model(X_train, X_test, y_train, y_test)"
      ],
      "execution_count": null,
      "outputs": [
        {
          "name": "stdout",
          "output_type": "stream",
          "text": [
            "Score:              0.8396951901565995\n",
            "roc_auc_score:      0.8376142534444327\n",
            "precision_score:    0.21294964028776978\n",
            "accuracy_score:     0.8389261744966443\n",
            "recall_score:       0.8361581920903954\n",
            "f1_score:           0.33944954128440363\n",
            "[[2852  547]\n",
            " [  29  148]]\n"
          ]
        }
      ]
    },
    {
      "cell_type": "markdown",
      "metadata": {
        "id": "IoQyjnioe1wH"
      },
      "source": [
        "## Dealing with 'texts' column using CountVectorizer()"
      ]
    },
    {
      "cell_type": "code",
      "metadata": {
        "id": "mhPbfh5P7Ex1"
      },
      "source": [
        "df = pd.read_csv('Cleaned_data.csv', index_col=0).dropna()\n",
        "df.reset_index(drop=True, inplace=True)"
      ],
      "execution_count": null,
      "outputs": []
    },
    {
      "cell_type": "code",
      "metadata": {
        "id": "4A91uGkHe1wH"
      },
      "source": [
        "vectorizer = CountVectorizer()\n",
        "X = vectorizer.fit_transform(df.texts)"
      ],
      "execution_count": null,
      "outputs": []
    },
    {
      "cell_type": "code",
      "metadata": {
        "id": "EnB1PlFue1wI"
      },
      "source": [
        "X = pd.DataFrame(X.toarray())"
      ],
      "execution_count": null,
      "outputs": []
    },
    {
      "cell_type": "code",
      "metadata": {
        "id": "YtZoXTs1e1wI"
      },
      "source": [
        "X[['telecommuting',\n",
        "   'has_company_logo',\n",
        "   'has_questions',\n",
        "   'employment_type',\n",
        "   'required_experience',\n",
        "   'required_education']] =  df[['telecommuting','has_company_logo',\n",
        "                                 'has_questions','employment_type', \n",
        "                                 'required_experience','required_education']]"
      ],
      "execution_count": null,
      "outputs": []
    },
    {
      "cell_type": "code",
      "metadata": {
        "id": "ra1bSKLne1wI"
      },
      "source": [
        "y = df.fraudulent"
      ],
      "execution_count": null,
      "outputs": []
    },
    {
      "cell_type": "code",
      "metadata": {
        "id": "4-7uzPte6rvj"
      },
      "source": [
        ""
      ],
      "execution_count": null,
      "outputs": []
    },
    {
      "cell_type": "code",
      "metadata": {
        "id": "jIpKCEtte1wI"
      },
      "source": [
        "X_train, X_test, y_train, y_test = train_test_split(X, y, test_size=0.20)"
      ],
      "execution_count": null,
      "outputs": []
    },
    {
      "cell_type": "code",
      "metadata": {
        "colab": {
          "base_uri": "https://localhost:8080/"
        },
        "id": "KqXnWL54e1wI",
        "outputId": "9102831d-f0d7-4ed6-be9e-419098940e76"
      },
      "source": [
        "cv_lrm = log_reg_model(X_train, X_test, y_train, y_test)"
      ],
      "execution_count": null,
      "outputs": [
        {
          "name": "stdout",
          "output_type": "stream",
          "text": [
            "Score:              1.0\n",
            "roc_auc_score:      0.8937164654594233\n",
            "precision_score:    0.7105263157894737\n",
            "accuracy_score:     0.9753914988814317\n",
            "recall_score:       0.8035714285714286\n",
            "f1_score:           0.7541899441340782\n",
            "[[3353   55]\n",
            " [  33  135]]\n"
          ]
        }
      ]
    },
    {
      "cell_type": "code",
      "metadata": {
        "id": "jfPbWHRke1wI"
      },
      "source": [
        "cv_knn = knn_model(X_train, X_test, y_train, y_test)"
      ],
      "execution_count": null,
      "outputs": []
    },
    {
      "cell_type": "code",
      "metadata": {
        "colab": {
          "base_uri": "https://localhost:8080/"
        },
        "id": "DntX2PUdFWLc",
        "outputId": "1ee33a4d-3fb3-4ba4-d391-ce2d49ed1280"
      },
      "source": [
        "cv_dtc = D_T_C_model(X_train, X_test, y_train, y_test)"
      ],
      "execution_count": null,
      "outputs": [
        {
          "name": "stdout",
          "output_type": "stream",
          "text": [
            "Score:              1.0\n",
            "roc_auc_score:      0.8572266934942993\n",
            "precision_score:    0.7530864197530864\n",
            "accuracy_score:     0.9759507829977628\n",
            "recall_score:       0.7261904761904762\n",
            "f1_score:           0.7393939393939394\n",
            "[[3368   40]\n",
            " [  46  122]]\n"
          ]
        }
      ]
    },
    {
      "cell_type": "code",
      "metadata": {
        "colab": {
          "base_uri": "https://localhost:8080/"
        },
        "id": "o5fZx9ncFWIp",
        "outputId": "541240a1-70ac-444a-e231-7d399cba929f"
      },
      "source": [
        "cv_rfc = R_F_C_model(X_train, X_test, y_train, y_test)"
      ],
      "execution_count": null,
      "outputs": [
        {
          "name": "stdout",
          "output_type": "stream",
          "text": [
            "Score:              1.0\n",
            "roc_auc_score:      0.7857142857142857\n",
            "precision_score:    1.0\n",
            "accuracy_score:     0.9798657718120806\n",
            "recall_score:       0.5714285714285714\n",
            "f1_score:           0.7272727272727273\n",
            "[[3408    0]\n",
            " [  72   96]]\n"
          ]
        }
      ]
    },
    {
      "cell_type": "code",
      "metadata": {
        "colab": {
          "base_uri": "https://localhost:8080/"
        },
        "id": "1G870O3MFWFJ",
        "outputId": "554cd99e-ce20-4d58-e484-3ce3b384f120"
      },
      "source": [
        "cv_svm = svm_model(X_train, X_test, y_train, y_test)"
      ],
      "execution_count": null,
      "outputs": [
        {
          "name": "stdout",
          "output_type": "stream",
          "text": [
            "Score:              0.9877648045864504\n",
            "roc_auc_score:      0.9086393360160966\n",
            "precision_score:    0.6527777777777778\n",
            "accuracy_score:     0.9714765100671141\n",
            "recall_score:       0.8392857142857143\n",
            "f1_score:           0.734375\n",
            "[[3333   75]\n",
            " [  27  141]]\n"
          ]
        }
      ]
    },
    {
      "cell_type": "code",
      "metadata": {
        "colab": {
          "base_uri": "https://localhost:8080/"
        },
        "id": "DZdogbwyFGJA",
        "outputId": "ec0f08ec-e64b-4121-d5af-bfdb50003fd5"
      },
      "source": [
        "cv_nbm = B_naive_bayes_model(X_train, X_test, y_train, y_test)"
      ],
      "execution_count": null,
      "outputs": [
        {
          "name": "stdout",
          "output_type": "stream",
          "text": [
            "Score:              0.9109277773893589\n",
            "roc_auc_score:      0.894638665325285\n",
            "precision_score:    0.2982107355864811\n",
            "accuracy_score:     0.8962527964205816\n",
            "recall_score:       0.8928571428571429\n",
            "f1_score:           0.44709388971684055\n",
            "[[3055  353]\n",
            " [  18  150]]\n"
          ]
        }
      ]
    },
    {
      "cell_type": "markdown",
      "metadata": {
        "id": "LohcvNN3Z0qa"
      },
      "source": [
        "## Dealing with 'texts' column using One_Hot()"
      ]
    },
    {
      "cell_type": "code",
      "metadata": {
        "id": "--VkhlR1e1wE"
      },
      "source": [
        "from tensorflow.keras.preprocessing.text import one_hot"
      ],
      "execution_count": null,
      "outputs": []
    },
    {
      "cell_type": "code",
      "metadata": {
        "id": "uSj1kU13e1wE"
      },
      "source": [
        "X=[one_hot(words, 3000)for words in df.texts]\n",
        "X = pd.DataFrame(X)\n",
        "X.fillna(0, inplace=True)\n",
        "X[['telecommuting',\n",
        "   'has_company_logo',\n",
        "   'has_questions',\n",
        "   'employment_type',\n",
        "   'required_experience',\n",
        "   'required_education']] =  df[['telecommuting','has_company_logo',\n",
        "                                 'has_questions','employment_type', \n",
        "                                 'required_experience','required_education']]"
      ],
      "execution_count": null,
      "outputs": []
    },
    {
      "cell_type": "code",
      "metadata": {
        "id": "-6uqTzLOe1wF"
      },
      "source": [
        "y = df.fraudulent"
      ],
      "execution_count": null,
      "outputs": []
    },
    {
      "cell_type": "code",
      "metadata": {
        "colab": {
          "base_uri": "https://localhost:8080/"
        },
        "id": "9-4-nBbDe1wF",
        "outputId": "e9f37dba-a630-457f-ea6c-3afcbd7246ab"
      },
      "source": [
        "oh_lrm = log_reg_model(X_train, X_test, y_train, y_test)"
      ],
      "execution_count": null,
      "outputs": [
        {
          "name": "stdout",
          "output_type": "stream",
          "text": [
            "Score:              1.0\n",
            "roc_auc_score:      0.8937164654594233\n",
            "precision_score:    0.7105263157894737\n",
            "accuracy_score:     0.9753914988814317\n",
            "recall_score:       0.8035714285714286\n",
            "f1_score:           0.7541899441340782\n",
            "[[3353   55]\n",
            " [  33  135]]\n"
          ]
        }
      ]
    },
    {
      "cell_type": "code",
      "metadata": {
        "id": "1gVU6ZTOe1wF"
      },
      "source": [
        "oh_knn = knn_model(X_train, X_test, y_train, y_test)"
      ],
      "execution_count": null,
      "outputs": []
    },
    {
      "cell_type": "code",
      "metadata": {
        "colab": {
          "base_uri": "https://localhost:8080/"
        },
        "id": "o3gr5houe1wF",
        "outputId": "4472e2cd-ed5b-415c-ca71-13620a1f456a"
      },
      "source": [
        "oh_dtm = D_T_C_model(X_train, X_test, y_train, y_test)"
      ],
      "execution_count": null,
      "outputs": [
        {
          "name": "stdout",
          "output_type": "stream",
          "text": [
            "Score:              1.0\n",
            "roc_auc_score:      0.8654216968477532\n",
            "precision_score:    0.7352941176470589\n",
            "accuracy_score:     0.9753914988814317\n",
            "recall_score:       0.7440476190476191\n",
            "f1_score:           0.7396449704142012\n",
            "[[3363   45]\n",
            " [  43  125]]\n"
          ]
        }
      ]
    },
    {
      "cell_type": "code",
      "metadata": {
        "colab": {
          "base_uri": "https://localhost:8080/"
        },
        "id": "Ue3hPErze1wF",
        "outputId": "b02d43ef-b2d7-4a8c-917a-c429cb50709d"
      },
      "source": [
        "oh_rfm = R_F_C_model(X_train, X_test, y_train, y_test)"
      ],
      "execution_count": null,
      "outputs": [
        {
          "name": "stdout",
          "output_type": "stream",
          "text": [
            "Score:              1.0\n",
            "roc_auc_score:      0.7885437625754527\n",
            "precision_score:    0.9897959183673469\n",
            "accuracy_score:     0.9798657718120806\n",
            "recall_score:       0.5773809523809523\n",
            "f1_score:           0.7293233082706767\n",
            "[[3407    1]\n",
            " [  71   97]]\n"
          ]
        }
      ]
    },
    {
      "cell_type": "code",
      "metadata": {
        "colab": {
          "background_save": true,
          "base_uri": "https://localhost:8080/"
        },
        "id": "UX0rjPDYe1wF",
        "outputId": "84f7fa9e-6089-446c-c05b-da311e60299a"
      },
      "source": [
        "oh_svm = svm_model(X_train, X_test, y_train, y_test)"
      ],
      "execution_count": null,
      "outputs": [
        {
          "name": "stdout",
          "output_type": "stream",
          "text": [
            "Score:              0.9877648045864504\n",
            "roc_auc_score:      0.9086393360160966\n",
            "precision_score:    0.6527777777777778\n",
            "accuracy_score:     0.9714765100671141\n",
            "recall_score:       0.8392857142857143\n",
            "f1_score:           0.734375\n",
            "[[3333   75]\n",
            " [  27  141]]\n"
          ]
        }
      ]
    },
    {
      "cell_type": "code",
      "metadata": {
        "colab": {
          "background_save": true
        },
        "id": "rChrHKtYe1wG",
        "outputId": "0c02df49-63c9-484f-f197-dfa1ff6649e6"
      },
      "source": [
        "oh_nbm = B_naive_bayes_model(X_train, X_test, y_train, y_test)"
      ],
      "execution_count": null,
      "outputs": [
        {
          "name": "stdout",
          "output_type": "stream",
          "text": [
            "Score:              0.9109277773893589\n",
            "roc_auc_score:      0.894638665325285\n",
            "precision_score:    0.2982107355864811\n",
            "accuracy_score:     0.8962527964205816\n",
            "recall_score:       0.8928571428571429\n",
            "f1_score:           0.44709388971684055\n",
            "[[3055  353]\n",
            " [  18  150]]\n"
          ]
        }
      ]
    },
    {
      "cell_type": "markdown",
      "metadata": {
        "id": "OWDamcj8Wkoy"
      },
      "source": [
        "# Extra Experiment"
      ]
    },
    {
      "cell_type": "markdown",
      "metadata": {
        "id": "cOIP75xn0Ugv"
      },
      "source": [
        "On our final (extra) experiment, we will check the performance of the ML classification models on the numerical data only."
      ]
    },
    {
      "cell_type": "code",
      "metadata": {
        "id": "Bzii8VKS8qgy"
      },
      "source": [
        "# Logistic Regression Model\n",
        "\n",
        "def log_reg_model(X_train, X_test, y_train, y_test):\n",
        "    model = LogisticRegression(max_iter=10000, class_weight={1 : 10, 0 : 1})\n",
        "    \n",
        "    param_grid = {'C':range(1,1000, 10)}\n",
        "      \n",
        "    grid = GridSearchCV(model, param_grid=param_grid, cv=10, scoring='f1')\n",
        "    grid.fit(X_train, y_train)\n",
        "   \n",
        "    print(\"Best params:       \", grid.best_params_)\n",
        "    print(\"Best estimator:    \", grid.best_estimator_)\n",
        "    print(\"Best score:        \", grid.best_score_)\n",
        "    \n",
        "    final_model = grid.best_estimator_\n",
        "    y_pred = final_model.predict(X_test)\n",
        "    \n",
        "    print('Score:             ', final_model.score(X_train, y_train))\n",
        "    print('roc_auc_score:     ', roc_auc_score(y_test, y_pred))\n",
        "    print('precision_score:   ', precision_score(y_test, y_pred))\n",
        "    print('accuracy_score:    ', accuracy_score(y_test, y_pred))\n",
        "    print('recall_score:      ', recall_score(y_test, y_pred))\n",
        "    print('f1_score:          ', f1_score(y_test, y_pred))\n",
        "    print(confusion_matrix(y_test, y_pred))\n",
        "    \n",
        "    return {'Score': final_model.score(X_train, y_train), \n",
        "            'roc_auc_score:': roc_auc_score(y_test, y_pred),\n",
        "            'precision_score:': precision_score(y_test, y_pred),\n",
        "            'accuracy_score:': accuracy_score(y_test, y_pred),\n",
        "            'recall_score:': recall_score(y_test, y_pred),\n",
        "            'f1_score:': f1_score(y_test, y_pred)}"
      ],
      "execution_count": 33,
      "outputs": []
    },
    {
      "cell_type": "code",
      "metadata": {
        "id": "-6pQzIoo_hab"
      },
      "source": [
        "def knn_model(X_train, X_test, y_train, y_test):\n",
        "    \n",
        "    model = KNeighborsClassifier()\n",
        "    param_grid = dict(n_neighbors=range(1,51), weights=['uniform', 'distance'])\n",
        "    \n",
        "    grid = GridSearchCV(model, param_grid, cv=10, scoring='f1')\n",
        "    grid.fit(X_train, y_train)\n",
        "    \n",
        "    print(\"Best params:       \", grid.best_params_)\n",
        "    print(\"Best estimator:    \", grid.best_estimator_)\n",
        "    print(\"Best score:        \", grid.best_score_)\n",
        "    \n",
        "    knn = grid.best_estimator_\n",
        "    y_pred = knn.predict(X_test)\n",
        "    \n",
        "    print('Score:             ', knn.score(X_train, y_train))\n",
        "    print('roc_auc_score:     ', roc_auc_score(y_test, y_pred))\n",
        "    print('precision_score:   ', precision_score(y_test, y_pred))\n",
        "    print('accuracy_score:    ', accuracy_score(y_test, y_pred))\n",
        "    print('recall_score:      ', recall_score(y_test, y_pred))\n",
        "    print('f1_score:          ', f1_score(y_test, y_pred))\n",
        "    print(confusion_matrix(y_test, y_pred))\n",
        "\n",
        "    return {'Score': knn.score(X_train, y_train), \n",
        "            'roc_auc_score:': roc_auc_score(y_test, y_pred),\n",
        "            'precision_score:': precision_score(y_test, y_pred),\n",
        "            'accuracy_score:': accuracy_score(y_test, y_pred),\n",
        "            'recall_score:': recall_score(y_test, y_pred),\n",
        "            'f1_score:': f1_score(y_test, y_pred)}"
      ],
      "execution_count": 39,
      "outputs": []
    },
    {
      "cell_type": "markdown",
      "metadata": {
        "id": "QIonum-B8rrH"
      },
      "source": [
        "## Dealing with imbalanced data (SMOTE)"
      ]
    },
    {
      "cell_type": "code",
      "metadata": {
        "id": "j8pL53wRoCnx"
      },
      "source": [
        "df = pd.read_csv('Cleaned_data.csv', index_col=0)"
      ],
      "execution_count": 35,
      "outputs": []
    },
    {
      "cell_type": "code",
      "metadata": {
        "colab": {
          "base_uri": "https://localhost:8080/"
        },
        "id": "mphgu7wBe1wM",
        "outputId": "ac801f3f-88bf-4d4e-c261-3bfe5f7e7f7c"
      },
      "source": [
        "X =  df[['telecommuting','has_company_logo',\n",
        "         'has_questions','employment_type', \n",
        "         'required_experience','required_education']]\n",
        "y = df.fraudulent\n",
        "\n",
        "n_pos = np.sum(y == 1)\n",
        "n_neg = np.sum(y == 0)\n",
        "ratio = {1 : n_pos * 11, 0 : n_neg}\n",
        "\n",
        "smote = imblearn.over_sampling.SMOTE(sampling_strategy = ratio)\n",
        "\n",
        "X, y = smote.fit_resample(X, y)\n",
        "\n",
        "X_train, X_test, y_train, y_test = train_test_split(X, y, test_size=0.2)"
      ],
      "execution_count": 36,
      "outputs": [
        {
          "output_type": "stream",
          "name": "stderr",
          "text": [
            "/usr/local/lib/python3.7/dist-packages/sklearn/utils/deprecation.py:87: FutureWarning: Function safe_indexing is deprecated; safe_indexing is deprecated in version 0.22 and will be removed in version 0.24.\n",
            "  warnings.warn(msg, category=FutureWarning)\n"
          ]
        }
      ]
    },
    {
      "cell_type": "code",
      "metadata": {
        "colab": {
          "base_uri": "https://localhost:8080/"
        },
        "id": "HhL1b6KKe1wM",
        "scrolled": true,
        "outputId": "9d6a0333-d85f-40bc-8693-2610c22bad4b"
      },
      "source": [
        "smote_lrm = log_reg_model(X_train, X_test, y_train, y_test)"
      ],
      "execution_count": 37,
      "outputs": [
        {
          "output_type": "stream",
          "name": "stdout",
          "text": [
            "Best params:        {'C': 1}\n",
            "Best estimator:     LogisticRegression(C=1, class_weight={0: 1, 1: 10}, dual=False,\n",
            "                   fit_intercept=True, intercept_scaling=1, l1_ratio=None,\n",
            "                   max_iter=10000, multi_class='auto', n_jobs=None,\n",
            "                   penalty='l2', random_state=None, solver='lbfgs', tol=0.0001,\n",
            "                   verbose=0, warm_start=False)\n",
            "Best score:         0.5287228983799818\n",
            "Score:              0.35936322532027126\n",
            "roc_auc_score:      0.5\n",
            "precision_score:    0.3571966842501884\n",
            "accuracy_score:     0.3571966842501884\n",
            "recall_score:       1.0\n",
            "f1_score:           0.5263742365352583\n",
            "[[   0 3412]\n",
            " [   0 1896]]\n"
          ]
        }
      ]
    },
    {
      "cell_type": "code",
      "metadata": {
        "colab": {
          "base_uri": "https://localhost:8080/"
        },
        "id": "OefEiGeje1wM",
        "outputId": "9bf65259-c0c6-443f-bc7f-1650d688cde8"
      },
      "source": [
        "smote_knn = knn_model(X_train, X_test, y_train, y_test)"
      ],
      "execution_count": 40,
      "outputs": [
        {
          "output_type": "stream",
          "name": "stdout",
          "text": [
            "Best params:        {'n_neighbors': 13, 'weights': 'distance'}\n",
            "Best estimator:     KNeighborsClassifier(algorithm='auto', leaf_size=30, metric='minkowski',\n",
            "                     metric_params=None, n_jobs=None, n_neighbors=13, p=2,\n",
            "                     weights='distance')\n",
            "Best score:         0.7776879594304758\n",
            "Score:              0.8252166541070083\n",
            "roc_auc_score:      0.7919464560424613\n",
            "precision_score:    0.7743259085580305\n",
            "accuracy_score:     0.8191409193669932\n",
            "recall_score:       0.6967299578059072\n",
            "f1_score:           0.7334813992226542\n",
            "[[3027  385]\n",
            " [ 575 1321]]\n"
          ]
        }
      ]
    },
    {
      "cell_type": "code",
      "metadata": {
        "colab": {
          "base_uri": "https://localhost:8080/"
        },
        "id": "aPpf51tLe1wN",
        "outputId": "4f2b5e12-49ca-48ed-97ae-393693055db6"
      },
      "source": [
        "smote_dtm = D_T_C_model(X_train, X_test, y_train, y_test)"
      ],
      "execution_count": 41,
      "outputs": [
        {
          "output_type": "stream",
          "name": "stdout",
          "text": [
            "Score:              0.8515919366993218\n",
            "roc_auc_score:      0.8442176037910378\n",
            "precision_score:    0.7717391304347826\n",
            "accuracy_score:     0.8500376789751318\n",
            "recall_score:       0.8238396624472574\n",
            "f1_score:           0.7969387755102041\n",
            "[[2950  462]\n",
            " [ 334 1562]]\n"
          ]
        }
      ]
    },
    {
      "cell_type": "code",
      "metadata": {
        "colab": {
          "base_uri": "https://localhost:8080/"
        },
        "id": "yQANHNSme1wN",
        "outputId": "73e74ae6-cf5f-4b4c-9e6c-0164f0bf1e6e"
      },
      "source": [
        "smote_rfm = R_F_C_model(X_train, X_test, y_train, y_test)"
      ],
      "execution_count": 42,
      "outputs": [
        {
          "output_type": "stream",
          "name": "stdout",
          "text": [
            "Score:              0.8515919366993218\n",
            "roc_auc_score:      0.8443641454088573\n",
            "precision_score:    0.7721206129510628\n",
            "accuracy_score:     0.8502260738507913\n",
            "recall_score:       0.8238396624472574\n",
            "f1_score:           0.7971421280939015\n",
            "[[2951  461]\n",
            " [ 334 1562]]\n"
          ]
        }
      ]
    },
    {
      "cell_type": "code",
      "metadata": {
        "colab": {
          "base_uri": "https://localhost:8080/"
        },
        "id": "BfO2qD9Q-uuR",
        "outputId": "4f60064c-4d7a-48a1-ee45-803d177bcd81"
      },
      "source": [
        "smote_svm = svm_model(X_train, X_test, y_train, y_test)"
      ],
      "execution_count": 43,
      "outputs": [
        {
          "output_type": "stream",
          "name": "stdout",
          "text": [
            "Score:              0.6015919366993218\n",
            "roc_auc_score:      0.6914148871444046\n",
            "precision_score:    0.47680082030248655\n",
            "accuracy_score:     0.6087038432554635\n",
            "recall_score:       0.9810126582278481\n",
            "f1_score:           0.6417112299465241\n",
            "[[1371 2041]\n",
            " [  36 1860]]\n"
          ]
        }
      ]
    },
    {
      "cell_type": "code",
      "metadata": {
        "colab": {
          "base_uri": "https://localhost:8080/"
        },
        "id": "Q5QL4qfpe1wN",
        "outputId": "4fa406b1-445c-411a-a4f4-fba0ac54ef52"
      },
      "source": [
        "smote_nbm = B_naive_bayes_model(X_train, X_test, y_train, y_test)"
      ],
      "execution_count": 44,
      "outputs": [
        {
          "output_type": "stream",
          "name": "stdout",
          "text": [
            "Score:              0.765825169555388\n",
            "roc_auc_score:      0.741132377164735\n",
            "precision_score:    0.6919134396355353\n",
            "accuracy_score:     0.7697814619442351\n",
            "recall_score:       0.6408227848101266\n",
            "f1_score:           0.6653888280394304\n",
            "[[2871  541]\n",
            " [ 681 1215]]\n"
          ]
        }
      ]
    },
    {
      "cell_type": "code",
      "metadata": {
        "id": "Vk6rmwuW9rsl"
      },
      "source": [
        ""
      ],
      "execution_count": 44,
      "outputs": []
    },
    {
      "cell_type": "markdown",
      "metadata": {
        "id": "-lfOExQuoEkp"
      },
      "source": [
        "## Dealing with imbalanced data (ADASYN)"
      ]
    },
    {
      "cell_type": "code",
      "metadata": {
        "id": "szNycaWd9xU-"
      },
      "source": [
        "df = pd.read_csv('Cleaned_data.csv', index_col=0)"
      ],
      "execution_count": 45,
      "outputs": []
    },
    {
      "cell_type": "code",
      "metadata": {
        "colab": {
          "base_uri": "https://localhost:8080/"
        },
        "id": "uTeH0Kwi9xU-",
        "outputId": "27987251-7f35-4903-e1b4-bad3270cde95"
      },
      "source": [
        "X =  df[['telecommuting','has_company_logo',\n",
        "         'has_questions','employment_type', \n",
        "         'required_experience','required_education']]\n",
        "y = df.fraudulent\n",
        "\n",
        "# Anther type of SMOTE\n",
        "ada = imblearn.over_sampling.ADASYN()\n",
        "X, y = ada.fit_sample(X, y) \n",
        "\n",
        "X_train, X_test, y_train, y_test = train_test_split(X, y, test_size=0.2)"
      ],
      "execution_count": 46,
      "outputs": [
        {
          "output_type": "stream",
          "name": "stderr",
          "text": [
            "/usr/local/lib/python3.7/dist-packages/sklearn/utils/deprecation.py:87: FutureWarning: Function safe_indexing is deprecated; safe_indexing is deprecated in version 0.22 and will be removed in version 0.24.\n",
            "  warnings.warn(msg, category=FutureWarning)\n"
          ]
        }
      ]
    },
    {
      "cell_type": "code",
      "metadata": {
        "colab": {
          "base_uri": "https://localhost:8080/"
        },
        "id": "c4d9-YJb9xU_",
        "scrolled": true,
        "outputId": "811eb2d0-bbaa-44a9-f6b7-0b4602ec1d5f"
      },
      "source": [
        "adasyn_lrm = log_reg_model(X_train, X_test, y_train, y_test)"
      ],
      "execution_count": 47,
      "outputs": [
        {
          "output_type": "stream",
          "name": "stdout",
          "text": [
            "Best params:        {'C': 1}\n",
            "Best estimator:     LogisticRegression(C=1, class_weight={0: 1, 1: 10}, dual=False,\n",
            "                   fit_intercept=True, intercept_scaling=1, l1_ratio=None,\n",
            "                   max_iter=10000, multi_class='auto', n_jobs=None,\n",
            "                   penalty='l2', random_state=None, solver='lbfgs', tol=0.0001,\n",
            "                   verbose=0, warm_start=False)\n",
            "Best score:         0.6666339829301012\n",
            "Score:              0.49996324610408704\n",
            "roc_auc_score:      0.5\n",
            "precision_score:    0.4988975452006468\n",
            "accuracy_score:     0.4988975452006468\n",
            "recall_score:       1.0\n",
            "f1_score:           0.6656859860743356\n",
            "[[   0 3409]\n",
            " [   0 3394]]\n"
          ]
        }
      ]
    },
    {
      "cell_type": "code",
      "metadata": {
        "colab": {
          "base_uri": "https://localhost:8080/"
        },
        "id": "xHxO0_Vn9xU_",
        "outputId": "70b33042-e30b-4d09-8688-cee7e7bf712e"
      },
      "source": [
        "adasyn_knn = knn_model(X_train, X_test, y_train, y_test)"
      ],
      "execution_count": 48,
      "outputs": [
        {
          "output_type": "stream",
          "name": "stdout",
          "text": [
            "Best params:        {'n_neighbors': 21, 'weights': 'distance'}\n",
            "Best estimator:     KNeighborsClassifier(algorithm='auto', leaf_size=30, metric='minkowski',\n",
            "                     metric_params=None, n_jobs=None, n_neighbors=21, p=2,\n",
            "                     weights='distance')\n",
            "Best score:         0.8409538170108288\n",
            "Score:              0.8457438988532785\n",
            "roc_auc_score:      0.835401601673825\n",
            "precision_score:    0.824486301369863\n",
            "accuracy_score:     0.8353667499632516\n",
            "recall_score:       0.8512080141426046\n",
            "f1_score:           0.8376340968396636\n",
            "[[2794  615]\n",
            " [ 505 2889]]\n"
          ]
        }
      ]
    },
    {
      "cell_type": "code",
      "metadata": {
        "colab": {
          "base_uri": "https://localhost:8080/"
        },
        "id": "Fwhr2jmp9xU_",
        "outputId": "41cc9862-08f7-4d8f-c076-4940b38259ea"
      },
      "source": [
        "adasyn_dtm = D_T_C_model(X_train, X_test, y_train, y_test)"
      ],
      "execution_count": 49,
      "outputs": [
        {
          "output_type": "stream",
          "name": "stdout",
          "text": [
            "Score:              0.8486842105263158\n",
            "roc_auc_score:      0.8474875770798398\n",
            "precision_score:    0.8268590455049944\n",
            "accuracy_score:     0.8474202557695134\n",
            "recall_score:       0.8780200353565115\n",
            "f1_score:           0.8516719062589311\n",
            "[[2785  624]\n",
            " [ 414 2980]]\n"
          ]
        }
      ]
    },
    {
      "cell_type": "code",
      "metadata": {
        "colab": {
          "base_uri": "https://localhost:8080/"
        },
        "id": "zpUBSOpp9xU_",
        "outputId": "c46ddbeb-5c10-4d3a-a5a2-c1734cb775a0"
      },
      "source": [
        "adasyn_rfm = R_F_C_model(X_train, X_test, y_train, y_test)"
      ],
      "execution_count": 50,
      "outputs": [
        {
          "output_type": "stream",
          "name": "stdout",
          "text": [
            "Score:              0.8486842105263158\n",
            "roc_auc_score:      0.8473415547219543\n",
            "precision_score:    0.826448572220682\n",
            "accuracy_score:     0.8472732617962664\n",
            "recall_score:       0.8783146729522687\n",
            "f1_score:           0.8515926296243395\n",
            "[[2783  626]\n",
            " [ 413 2981]]\n"
          ]
        }
      ]
    },
    {
      "cell_type": "code",
      "metadata": {
        "colab": {
          "base_uri": "https://localhost:8080/"
        },
        "id": "PDYAUBfm-9Dd",
        "outputId": "ebe6ac99-850f-4736-f9af-7d86269cf9ad"
      },
      "source": [
        "adasyn_svm = svm_model(X_train, X_test, y_train, y_test)"
      ],
      "execution_count": 51,
      "outputs": [
        {
          "output_type": "stream",
          "name": "stdout",
          "text": [
            "Score:              0.5953763598941488\n",
            "roc_auc_score:      0.5948880852497453\n",
            "precision_score:    0.5515329419439009\n",
            "accuracy_score:     0.5940026458915184\n",
            "recall_score:       0.9964643488509134\n",
            "f1_score:           0.7100566869619989\n",
            "[[ 659 2750]\n",
            " [  12 3382]]\n"
          ]
        }
      ]
    },
    {
      "cell_type": "code",
      "metadata": {
        "colab": {
          "base_uri": "https://localhost:8080/"
        },
        "id": "h_vbaOxu9xU_",
        "outputId": "368715e3-2bdb-4660-dc3b-21b23493a597"
      },
      "source": [
        "adasyn_nbm = B_naive_bayes_model(X_train, X_test, y_train, y_test)"
      ],
      "execution_count": 52,
      "outputs": [
        {
          "output_type": "stream",
          "name": "stdout",
          "text": [
            "Score:              0.7196780358718025\n",
            "roc_auc_score:      0.7188769700918208\n",
            "precision_score:    0.7719105243857719\n",
            "accuracy_score:     0.7190945171247979\n",
            "recall_score:       0.6202121390689452\n",
            "f1_score:           0.6877961117464467\n",
            "[[2787  622]\n",
            " [1289 2105]]\n"
          ]
        }
      ]
    },
    {
      "cell_type": "code",
      "metadata": {
        "colab": {
          "background_save": true
        },
        "id": "I02Ak1mXnMNl"
      },
      "source": [
        ""
      ],
      "execution_count": null,
      "outputs": []
    },
    {
      "cell_type": "markdown",
      "metadata": {
        "id": "DnTFYarknNtf"
      },
      "source": [
        "# Summary"
      ]
    },
    {
      "cell_type": "code",
      "metadata": {
        "colab": {
          "background_save": true
        },
        "id": "OgCzNTU0nMJG"
      },
      "source": [
        "df_summary =  pd.DataFrame([tfidf_lrm,\n",
        "                            tfidf_dtm,\n",
        "                            tfidf_rfm,\n",
        "                            tfidf_svm,\n",
        "                            tfidf_nbm,\n",
        "                            tfidf_lrm_nr2,\n",
        "                            tfidf_dtm_nr2,\n",
        "                            tfidf_rfm_nr2,\n",
        "                            tfidf_svm_nr2,\n",
        "                            tfidf_nbm_nr2,\n",
        "                            cv_lrm,\n",
        "                            cv_dtm,\n",
        "                            cv_rfm,\n",
        "                            cv_svm,\n",
        "                            cv_nbm,\n",
        "                            oh_lrm,\n",
        "                            oh_dtm,\n",
        "                            oh_rfm,\n",
        "                            oh_svm,\n",
        "                            oh_nbm,\n",
        "                            smote_lrm,\n",
        "                            smote_dtm,\n",
        "                            smote_rfm,\n",
        "                            smote_svm,\n",
        "                            smote_nbm,\n",
        "                            adasyn_lrm,\n",
        "                            adasyn_dtm,\n",
        "                            adasyn_rfm,\n",
        "                            adasyn_svm,\n",
        "                            adasyn_nbm\n",
        "                            ],\n",
        "                            index =  ['tfidf_lrm',\n",
        "                                      'tfidf_dtm',\n",
        "                                      'tfidf_rfm',\n",
        "                                      'tfidf_svm',\n",
        "                                      'tfidf_nbm',\n",
        "                                      'tfidf_lrm_nr2',\n",
        "                                      'tfidf_dtm_nr2',\n",
        "                                      'tfidf_rfm_nr2',\n",
        "                                      'tfidf_svm_nr2',\n",
        "                                      'tfidf_nbm_nr2',\n",
        "                                      'cv_lrm',\n",
        "                                      'cv_dtm',\n",
        "                                      'cv_rfm',\n",
        "                                      'cv_svm',\n",
        "                                      'cv_nbm',\n",
        "                                      'oh_lrm',\n",
        "                                      'oh_dtm',\n",
        "                                      'oh_rfm',\n",
        "                                      'oh_svm',\n",
        "                                      'oh_nbm',\n",
        "                                      'smote_lrm',\n",
        "                                      'smote_dtm',\n",
        "                                      'smote_rfm',\n",
        "                                      'smote_svm',\n",
        "                                      'smote_nbm',\n",
        "                                      'adasyn_lrm',\n",
        "                                      'adasyn_dtm',\n",
        "                                      'adasyn_rfm',\n",
        "                                      'adasyn_svm',\n",
        "                                      'adasyn_nbm']\n",
        ")"
      ],
      "execution_count": null,
      "outputs": []
    },
    {
      "cell_type": "code",
      "metadata": {
        "colab": {
          "background_save": true
        },
        "id": "sFuB2aHhnMEb"
      },
      "source": [
        "df_summary"
      ],
      "execution_count": null,
      "outputs": []
    },
    {
      "cell_type": "code",
      "metadata": {
        "colab": {
          "background_save": true
        },
        "id": "bcH2iGe98tOf"
      },
      "source": [
        ""
      ],
      "execution_count": null,
      "outputs": []
    }
  ]
}